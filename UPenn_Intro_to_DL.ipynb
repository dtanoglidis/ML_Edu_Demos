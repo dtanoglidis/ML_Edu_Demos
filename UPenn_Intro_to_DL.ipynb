{
  "nbformat": 4,
  "nbformat_minor": 0,
  "metadata": {
    "colab": {
      "name": "UPenn_Intro_to_DL.ipynb",
      "provenance": []
    },
    "kernelspec": {
      "name": "python3",
      "display_name": "Python 3"
    },
    "language_info": {
      "name": "python"
    }
  },
  "cells": [
    {
      "cell_type": "markdown",
      "source": [
        "## Introduction to Deep Learning\n",
        "\n",
        "**Author: Dr. Dimitrios Tanoglidis**: Incoming Data Science Fellow @UPenn, PhD @UChicago\n",
        "\n",
        "[![Open In Colab](https://colab.research.google.com/assets/colab-badge.svg)](https://colab.research.google.com/drive/140LcaibWwFnMOAStOejS7tsaWm918dGB#scrollTo=5TSCmnkkSHvT)\n",
        "\n",
        "In this notebook we give a practical, **hands-on** introduction to deep learning/neural networks, by solving a real problem we encounter in astrophysics research.\n",
        "\n",
        "We will present a faster and simplyfied use of a neural network able to distinguish between **extremely faint galaxies** and **artifacts** in astrophysical images.\n"
      ],
      "metadata": {
        "id": "5TSCmnkkSHvT"
      }
    },
    {
      "cell_type": "code",
      "source": [
        ""
      ],
      "metadata": {
        "id": "SwN-ffCxSyJO"
      },
      "execution_count": null,
      "outputs": []
    },
    {
      "cell_type": "code",
      "source": [
        ""
      ],
      "metadata": {
        "id": "2HGUn51wSyOd"
      },
      "execution_count": null,
      "outputs": []
    },
    {
      "cell_type": "code",
      "source": [
        ""
      ],
      "metadata": {
        "id": "w5BHKpAVSyR3"
      },
      "execution_count": null,
      "outputs": []
    },
    {
      "cell_type": "code",
      "source": [
        ""
      ],
      "metadata": {
        "id": "zOuOh47pSyfS"
      },
      "execution_count": null,
      "outputs": []
    }
  ]
}