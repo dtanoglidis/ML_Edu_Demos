{
 "cells": [
  {
   "cell_type": "markdown",
   "id": "4b0dfaee",
   "metadata": {},
   "source": [
    "## Star-Galaxy separation using Decision Trees and Random Forests \n",
    "\n",
    "Background: One important task in current and future astronomical surveys is to separate the surveyed objects into (mainly) stars and galaxies and also to a special category of very active galaxies known as quasars.\n",
    "\n",
    "Usually in these large astronomical surveys we are interested in having a pure sample of galaxies (thus stars act more like a nuisance) to use for cosmological analyses. In some cases we are also interested in a quasar catalog for studies of that particular galaxy population.\n",
    "\n",
    "In this notebook we use data from the 17th data release (DR 17) of the Sloan Digital Sky Survey SDSS to classify objects into the three categories (QSO, Star, Galaxy) based on their photometric properties (flux, that is light intensities, in the filters \n",
    "$u$, $g$, $r$, $i$, $z$) and derivative quantities.\n",
    "\n",
    "Although you can easily query the SDSS from the survey's website, we used a dataset hosted at Kaggle: https://www.kaggle.com/datasets/fedesoriano/stellar-classification-dataset-sdss17"
   ]
  },
  {
   "cell_type": "markdown",
   "id": "a73d0f05",
   "metadata": {},
   "source": [
    "# Just run the cells below\n",
    "\n",
    "You can simply run the cells in this section - they are mostly about reading and preparing the data. You can read more about them at home."
   ]
  },
  {
   "cell_type": "code",
   "execution_count": 1,
   "id": "a069ae52",
   "metadata": {},
   "outputs": [],
   "source": [
    "# Import basic packages\n",
    "import numpy as np\n",
    "import pandas as pd\n",
    "import matplotlib.pyplot as plt\n",
    "%matplotlib inline"
   ]
  },
  {
   "cell_type": "markdown",
   "id": "b76658ef",
   "metadata": {},
   "source": [
    "### Import and Prepare data\n"
   ]
  },
  {
   "cell_type": "code",
   "execution_count": 4,
   "id": "5e655468",
   "metadata": {},
   "outputs": [
    {
     "data": {
      "text/html": [
       "<div>\n",
       "<style scoped>\n",
       "    .dataframe tbody tr th:only-of-type {\n",
       "        vertical-align: middle;\n",
       "    }\n",
       "\n",
       "    .dataframe tbody tr th {\n",
       "        vertical-align: top;\n",
       "    }\n",
       "\n",
       "    .dataframe thead th {\n",
       "        text-align: right;\n",
       "    }\n",
       "</style>\n",
       "<table border=\"1\" class=\"dataframe\">\n",
       "  <thead>\n",
       "    <tr style=\"text-align: right;\">\n",
       "      <th></th>\n",
       "      <th>obj_ID</th>\n",
       "      <th>alpha</th>\n",
       "      <th>delta</th>\n",
       "      <th>u</th>\n",
       "      <th>g</th>\n",
       "      <th>r</th>\n",
       "      <th>i</th>\n",
       "      <th>z</th>\n",
       "      <th>run_ID</th>\n",
       "      <th>rerun_ID</th>\n",
       "      <th>cam_col</th>\n",
       "      <th>field_ID</th>\n",
       "      <th>spec_obj_ID</th>\n",
       "      <th>class</th>\n",
       "      <th>redshift</th>\n",
       "      <th>plate</th>\n",
       "      <th>MJD</th>\n",
       "      <th>fiber_ID</th>\n",
       "    </tr>\n",
       "  </thead>\n",
       "  <tbody>\n",
       "    <tr>\n",
       "      <th>0</th>\n",
       "      <td>1.237661e+18</td>\n",
       "      <td>135.689107</td>\n",
       "      <td>32.494632</td>\n",
       "      <td>23.87882</td>\n",
       "      <td>22.27530</td>\n",
       "      <td>20.39501</td>\n",
       "      <td>19.16573</td>\n",
       "      <td>18.79371</td>\n",
       "      <td>3606</td>\n",
       "      <td>301</td>\n",
       "      <td>2</td>\n",
       "      <td>79</td>\n",
       "      <td>6.543777e+18</td>\n",
       "      <td>GALAXY</td>\n",
       "      <td>0.634794</td>\n",
       "      <td>5812</td>\n",
       "      <td>56354</td>\n",
       "      <td>171</td>\n",
       "    </tr>\n",
       "    <tr>\n",
       "      <th>1</th>\n",
       "      <td>1.237665e+18</td>\n",
       "      <td>144.826101</td>\n",
       "      <td>31.274185</td>\n",
       "      <td>24.77759</td>\n",
       "      <td>22.83188</td>\n",
       "      <td>22.58444</td>\n",
       "      <td>21.16812</td>\n",
       "      <td>21.61427</td>\n",
       "      <td>4518</td>\n",
       "      <td>301</td>\n",
       "      <td>5</td>\n",
       "      <td>119</td>\n",
       "      <td>1.176014e+19</td>\n",
       "      <td>GALAXY</td>\n",
       "      <td>0.779136</td>\n",
       "      <td>10445</td>\n",
       "      <td>58158</td>\n",
       "      <td>427</td>\n",
       "    </tr>\n",
       "    <tr>\n",
       "      <th>2</th>\n",
       "      <td>1.237661e+18</td>\n",
       "      <td>142.188790</td>\n",
       "      <td>35.582444</td>\n",
       "      <td>25.26307</td>\n",
       "      <td>22.66389</td>\n",
       "      <td>20.60976</td>\n",
       "      <td>19.34857</td>\n",
       "      <td>18.94827</td>\n",
       "      <td>3606</td>\n",
       "      <td>301</td>\n",
       "      <td>2</td>\n",
       "      <td>120</td>\n",
       "      <td>5.152200e+18</td>\n",
       "      <td>GALAXY</td>\n",
       "      <td>0.644195</td>\n",
       "      <td>4576</td>\n",
       "      <td>55592</td>\n",
       "      <td>299</td>\n",
       "    </tr>\n",
       "    <tr>\n",
       "      <th>3</th>\n",
       "      <td>1.237663e+18</td>\n",
       "      <td>338.741038</td>\n",
       "      <td>-0.402828</td>\n",
       "      <td>22.13682</td>\n",
       "      <td>23.77656</td>\n",
       "      <td>21.61162</td>\n",
       "      <td>20.50454</td>\n",
       "      <td>19.25010</td>\n",
       "      <td>4192</td>\n",
       "      <td>301</td>\n",
       "      <td>3</td>\n",
       "      <td>214</td>\n",
       "      <td>1.030107e+19</td>\n",
       "      <td>GALAXY</td>\n",
       "      <td>0.932346</td>\n",
       "      <td>9149</td>\n",
       "      <td>58039</td>\n",
       "      <td>775</td>\n",
       "    </tr>\n",
       "    <tr>\n",
       "      <th>4</th>\n",
       "      <td>1.237680e+18</td>\n",
       "      <td>345.282593</td>\n",
       "      <td>21.183866</td>\n",
       "      <td>19.43718</td>\n",
       "      <td>17.58028</td>\n",
       "      <td>16.49747</td>\n",
       "      <td>15.97711</td>\n",
       "      <td>15.54461</td>\n",
       "      <td>8102</td>\n",
       "      <td>301</td>\n",
       "      <td>3</td>\n",
       "      <td>137</td>\n",
       "      <td>6.891865e+18</td>\n",
       "      <td>GALAXY</td>\n",
       "      <td>0.116123</td>\n",
       "      <td>6121</td>\n",
       "      <td>56187</td>\n",
       "      <td>842</td>\n",
       "    </tr>\n",
       "  </tbody>\n",
       "</table>\n",
       "</div>"
      ],
      "text/plain": [
       "         obj_ID       alpha      delta         u         g         r  \\\n",
       "0  1.237661e+18  135.689107  32.494632  23.87882  22.27530  20.39501   \n",
       "1  1.237665e+18  144.826101  31.274185  24.77759  22.83188  22.58444   \n",
       "2  1.237661e+18  142.188790  35.582444  25.26307  22.66389  20.60976   \n",
       "3  1.237663e+18  338.741038  -0.402828  22.13682  23.77656  21.61162   \n",
       "4  1.237680e+18  345.282593  21.183866  19.43718  17.58028  16.49747   \n",
       "\n",
       "          i         z  run_ID  rerun_ID  cam_col  field_ID   spec_obj_ID  \\\n",
       "0  19.16573  18.79371    3606       301        2        79  6.543777e+18   \n",
       "1  21.16812  21.61427    4518       301        5       119  1.176014e+19   \n",
       "2  19.34857  18.94827    3606       301        2       120  5.152200e+18   \n",
       "3  20.50454  19.25010    4192       301        3       214  1.030107e+19   \n",
       "4  15.97711  15.54461    8102       301        3       137  6.891865e+18   \n",
       "\n",
       "    class  redshift  plate    MJD  fiber_ID  \n",
       "0  GALAXY  0.634794   5812  56354       171  \n",
       "1  GALAXY  0.779136  10445  58158       427  \n",
       "2  GALAXY  0.644195   4576  55592       299  \n",
       "3  GALAXY  0.932346   9149  58039       775  \n",
       "4  GALAXY  0.116123   6121  56187       842  "
      ]
     },
     "execution_count": 4,
     "metadata": {},
     "output_type": "execute_result"
    }
   ],
   "source": [
    "# Let's read the data\n",
    "SDSS_table = pd.read_csv(\"Star_Galaxy_Quasar.csv\")\n",
    "SDSS_table.head()"
   ]
  },
  {
   "cell_type": "markdown",
   "id": "1df49d86",
   "metadata": {},
   "source": [
    "### Features (predictors) "
   ]
  },
  {
   "cell_type": "markdown",
   "id": "55fd6c7f",
   "metadata": {},
   "source": [
    "For the meaning of the name of the columns, you can refer to the link above. \n",
    "\n",
    "For now, we will consider as **features** only the magnitudes $u$, $g$, $r$, $i$, $z$\n",
    "and as labels that we want to predict the `class` column"
   ]
  },
  {
   "cell_type": "code",
   "execution_count": 23,
   "id": "f2d16c3e",
   "metadata": {},
   "outputs": [
    {
     "data": {
      "text/html": [
       "<div>\n",
       "<style scoped>\n",
       "    .dataframe tbody tr th:only-of-type {\n",
       "        vertical-align: middle;\n",
       "    }\n",
       "\n",
       "    .dataframe tbody tr th {\n",
       "        vertical-align: top;\n",
       "    }\n",
       "\n",
       "    .dataframe thead th {\n",
       "        text-align: right;\n",
       "    }\n",
       "</style>\n",
       "<table border=\"1\" class=\"dataframe\">\n",
       "  <thead>\n",
       "    <tr style=\"text-align: right;\">\n",
       "      <th></th>\n",
       "      <th>u</th>\n",
       "      <th>g</th>\n",
       "      <th>r</th>\n",
       "      <th>i</th>\n",
       "      <th>z</th>\n",
       "    </tr>\n",
       "  </thead>\n",
       "  <tbody>\n",
       "    <tr>\n",
       "      <th>0</th>\n",
       "      <td>23.87882</td>\n",
       "      <td>22.27530</td>\n",
       "      <td>20.39501</td>\n",
       "      <td>19.16573</td>\n",
       "      <td>18.79371</td>\n",
       "    </tr>\n",
       "    <tr>\n",
       "      <th>1</th>\n",
       "      <td>24.77759</td>\n",
       "      <td>22.83188</td>\n",
       "      <td>22.58444</td>\n",
       "      <td>21.16812</td>\n",
       "      <td>21.61427</td>\n",
       "    </tr>\n",
       "    <tr>\n",
       "      <th>2</th>\n",
       "      <td>25.26307</td>\n",
       "      <td>22.66389</td>\n",
       "      <td>20.60976</td>\n",
       "      <td>19.34857</td>\n",
       "      <td>18.94827</td>\n",
       "    </tr>\n",
       "    <tr>\n",
       "      <th>3</th>\n",
       "      <td>22.13682</td>\n",
       "      <td>23.77656</td>\n",
       "      <td>21.61162</td>\n",
       "      <td>20.50454</td>\n",
       "      <td>19.25010</td>\n",
       "    </tr>\n",
       "    <tr>\n",
       "      <th>4</th>\n",
       "      <td>19.43718</td>\n",
       "      <td>17.58028</td>\n",
       "      <td>16.49747</td>\n",
       "      <td>15.97711</td>\n",
       "      <td>15.54461</td>\n",
       "    </tr>\n",
       "  </tbody>\n",
       "</table>\n",
       "</div>"
      ],
      "text/plain": [
       "          u         g         r         i         z\n",
       "0  23.87882  22.27530  20.39501  19.16573  18.79371\n",
       "1  24.77759  22.83188  22.58444  21.16812  21.61427\n",
       "2  25.26307  22.66389  20.60976  19.34857  18.94827\n",
       "3  22.13682  23.77656  21.61162  20.50454  19.25010\n",
       "4  19.43718  17.58028  16.49747  15.97711  15.54461"
      ]
     },
     "execution_count": 23,
     "metadata": {},
     "output_type": "execute_result"
    }
   ],
   "source": [
    "# Matrix of features\n",
    "X_feat = SDSS_table.loc[:,'u':'z']\n",
    "X_feat.head()"
   ]
  },
  {
   "cell_type": "markdown",
   "id": "d0345174",
   "metadata": {},
   "source": [
    "However if we keep only the magnitudes, the predicive power will be low. We can create some combinations of data, such as colors (differences in the filters) \n",
    "and ratios of the filters"
   ]
  },
  {
   "cell_type": "code",
   "execution_count": 43,
   "id": "b8678241",
   "metadata": {},
   "outputs": [],
   "source": [
    "# Let's download the magnitudes here again, separately\n",
    "u = SDSS_table['u'];g = SDSS_table['g'];r = SDSS_table['r'];i = SDSS_table['i'];z =SDSS_table['z']\n",
    "\n",
    "# Define colors \n",
    "u_g = u-g; u_r = u-r; u_i = u-i; u_z = u-z; g_r = g-r; g_i = g-i; g_z = g-z; r_i = r-i; r_z = r-z\n",
    "\n",
    "# Define the ratios now\n",
    "u_ov_g = u/g; u_ov_r = u/r; u_ov_i = u/i; u_ov_z = u/z; g_ov_r = g/r; g_ov_i = g/i; g_ov_z=g/z; r_ov_i = r/i\n",
    "r_ov_z = r/z \n",
    "\n",
    "\n",
    "# Create again a feature matrix with all the features\n",
    "n_feat = len(u)\n",
    "\n",
    "# Initialize feature matrix\n",
    "X_feat = np.zeros([n_feat,23])\n",
    "# ================================================================\n",
    "# ================================================================\n",
    "# Define feature matrix\n",
    "X_feat[:,0] = u;X_feat[:,1] = g; X_feat[:,2] = r; X_feat[:,3] = i; X_feat[:,4] =z\n",
    "X_feat[:,5] = u_g;X_feat[:,6] = u_r;X_feat[:,7] = u_i;X_feat[:,8] = u_z; X_feat[:,9] = g_r\n",
    "X_feat[:,10] = g_i; X_feat[:,11] = g_z; X_feat[:,12] = r_i; X_feat[:,13] = r_z\n",
    "X_feat[:,14] = u_ov_g; X_feat[:,15] = u_ov_r; X_feat[:,16] = u_ov_i; X_feat[:,17] = u_ov_z\n",
    "X_feat[:,18] = g_ov_r;X_feat[:,19] = g_ov_i;X_feat[:,20] = g_ov_z; X_feat[:,21] = r_ov_i; X_feat[:,22] = r_ov_z"
   ]
  },
  {
   "cell_type": "markdown",
   "id": "efc8f407",
   "metadata": {},
   "source": [
    "### Target Labels"
   ]
  },
  {
   "cell_type": "code",
   "execution_count": 37,
   "id": "95fdc483",
   "metadata": {},
   "outputs": [
    {
     "name": "stdout",
     "output_type": "stream",
     "text": [
      "['GALAXY' 'GALAXY' 'GALAXY' 'GALAXY' 'GALAXY' 'QSO' 'QSO' 'GALAXY'\n",
      " 'GALAXY' 'STAR']\n",
      "100000\n",
      "Number of Galaxies: 59445\n",
      "Number of Stars: 21594\n",
      "Number of QSOs: 18961\n"
     ]
    }
   ],
   "source": [
    "# Let's also get the labels\n",
    "y_label = SDSS_table['class'].values\n",
    "\n",
    "print(y_label[0:10])\n",
    "\n",
    "print(len(y_label))\n",
    "\n",
    "print('Number of Galaxies:',len(y_label[y_label=='GALAXY']))\n",
    "print('Number of Stars:',len(y_label[y_label=='STAR']))\n",
    "print('Number of QSOs:',len(y_label[y_label=='QSO']))"
   ]
  },
  {
   "cell_type": "markdown",
   "id": "85953551",
   "metadata": {},
   "source": [
    "Now let us change the class of objects to something that a machine can understand. Say \"GALAXY\" = 0, \"STAR\" = 1, \"QSO\"=2"
   ]
  },
  {
   "cell_type": "code",
   "execution_count": 32,
   "id": "22930c5f",
   "metadata": {},
   "outputs": [],
   "source": [
    "y_label_num = np.zeros(len(y_label))\n",
    "for i_l in range(len(y_label)):\n",
    "    \n",
    "    if (y_label[i_l]==\"GALAXY\"):\n",
    "        y_label_num[i_l] = 0\n",
    "    elif (y_label[i_l]==\"STAR\"):\n",
    "        y_label_num[i_l] = 1\n",
    "    else:\n",
    "        y_label_num[i_l] = 2"
   ]
  },
  {
   "cell_type": "markdown",
   "id": "1bf026ff",
   "metadata": {},
   "source": [
    "For the ease of the rest of the exercise, we omit the QSO class"
   ]
  },
  {
   "cell_type": "code",
   "execution_count": 45,
   "id": "9a195afe",
   "metadata": {},
   "outputs": [],
   "source": [
    "# Star galaxy feature matrix\n",
    "X_feat_SG = X_feat[(y_label_num==0.0)|(y_label_num==1.0),:]\n",
    "# Star galaxy labels\n",
    "y_label_SG = y_label_num[(y_label_num==0.0)|(y_label_num==1.0)]"
   ]
  },
  {
   "cell_type": "markdown",
   "id": "f8811960",
   "metadata": {},
   "source": [
    "# Exercises start here"
   ]
  },
  {
   "cell_type": "markdown",
   "id": "0bbe6a1f",
   "metadata": {},
   "source": [
    "Let's split the sample into training and test sets. We use `scikit-learn` for that."
   ]
  },
  {
   "cell_type": "code",
   "execution_count": 49,
   "id": "2d0a3634",
   "metadata": {},
   "outputs": [
    {
     "name": "stdout",
     "output_type": "stream",
     "text": [
      "Number of galaxies: 21594\n",
      "Number of Stars: 59445\n"
     ]
    }
   ],
   "source": [
    "print('Number of galaxies:',len(y_label_SG[y_label_SG==1]))\n",
    "print('Number of Stars:',len(y_label_SG[y_label_SG==0]))"
   ]
  },
  {
   "cell_type": "code",
   "execution_count": 46,
   "id": "f2233d4f",
   "metadata": {},
   "outputs": [],
   "source": [
    "from sklearn.model_selection import train_test_split\n",
    "\n",
    "X_train, X_test, y_train, y_test = train_test_split(X_feat_SG, y_label_SG, train_size = 0.70, random_state = 42)"
   ]
  },
  {
   "cell_type": "markdown",
   "id": "e6b7334b",
   "metadata": {},
   "source": [
    "### Problem 1: Decision Tree classification\n",
    "\n",
    "Train Decision Tree classifier to separate stars from galaxies in your data.\n",
    "Report the accuracy, precision, and recall both on the training and the test set. Do you see any signs of overfitting?\n",
    "\n",
    "Use also the balanced accuracy, since the number of galaxies in our sample is smaller than \n",
    "\n",
    "**Hints**: Use the Desicion Tree classifier from `scikit-learn` here: https://scikit-learn.org/stable/modules/generated/sklearn.tree.DecisionTreeClassifier.html,\n",
    "with the default hyperparameters (e.g. no need to change anything at this point).\n",
    "\n",
    "Sklearn also implements the metrics we are going to need, e.g. the accuracy here: https://scikit-learn.org/stable/modules/generated/sklearn.metrics.accuracy_score.html#sklearn.metrics.accuracy_score. Be careful to have the correct order of predicted/true values."
   ]
  },
  {
   "cell_type": "markdown",
   "id": "4efaaac8",
   "metadata": {},
   "source": [
    "### Problem 1 solution:"
   ]
  },
  {
   "cell_type": "code",
   "execution_count": 50,
   "id": "94da1d5c",
   "metadata": {},
   "outputs": [
    {
     "data": {
      "text/plain": [
       "DecisionTreeClassifier()"
      ]
     },
     "execution_count": 50,
     "metadata": {},
     "output_type": "execute_result"
    }
   ],
   "source": [
    "from sklearn.tree import DecisionTreeClassifier\n",
    "\n",
    "# Define the decision tree\n",
    "DT_clf = DecisionTreeClassifier()\n",
    "\n",
    "# Fit\n",
    "DT_clf.fit(X_train,y_train)"
   ]
  },
  {
   "cell_type": "markdown",
   "id": "18ba4439",
   "metadata": {},
   "source": [
    "Predict on the training and test sets"
   ]
  },
  {
   "cell_type": "code",
   "execution_count": 51,
   "id": "d6f5acb9",
   "metadata": {},
   "outputs": [],
   "source": [
    "y_train_pred = DT_clf.predict(X_train) \n",
    "y_test_pred = DT_clf.predict(X_test)"
   ]
  },
  {
   "cell_type": "markdown",
   "id": "72c23fe9",
   "metadata": {},
   "source": [
    "Import all the metrics"
   ]
  },
  {
   "cell_type": "code",
   "execution_count": 53,
   "id": "23541057",
   "metadata": {},
   "outputs": [],
   "source": [
    "from sklearn.metrics import accuracy_score\n",
    "from sklearn.metrics import balanced_accuracy_score\n",
    "from sklearn.metrics import precision_score\n",
    "from sklearn.metrics import recall_score"
   ]
  },
  {
   "cell_type": "markdown",
   "id": "0ae8b239",
   "metadata": {},
   "source": [
    "Performance on the **training set**:"
   ]
  },
  {
   "cell_type": "code",
   "execution_count": 56,
   "id": "19b3666a",
   "metadata": {},
   "outputs": [
    {
     "name": "stdout",
     "output_type": "stream",
     "text": [
      "Accuracy: 1.0\n",
      "Balanced: 1.0\n",
      "Precision: 1.0\n",
      "Recall: 1.0\n"
     ]
    }
   ],
   "source": [
    "print('Accuracy:',accuracy_score(y_train,y_train_pred))\n",
    "print('Balanced:',balanced_accuracy_score(y_train,y_train_pred))\n",
    "print('Precision:',precision_score(y_train,y_train_pred))\n",
    "print('Recall:',recall_score(y_train,y_train_pred))"
   ]
  },
  {
   "cell_type": "markdown",
   "id": "47e095a6",
   "metadata": {},
   "source": [
    "Performance on the **test set**:"
   ]
  },
  {
   "cell_type": "code",
   "execution_count": 58,
   "id": "dd20a640",
   "metadata": {},
   "outputs": [
    {
     "name": "stdout",
     "output_type": "stream",
     "text": [
      "Accuracy: 0.9063836788417242\n",
      "Balanced: 0.881908690138608\n",
      "Precision: 0.8196018376722818\n",
      "Recall: 0.8297674418604651\n"
     ]
    }
   ],
   "source": [
    "print('Accuracy:',accuracy_score(y_test,y_test_pred))\n",
    "print('Balanced:',balanced_accuracy_score(y_test,y_test_pred))\n",
    "print('Precision:',precision_score(y_test,y_test_pred))\n",
    "print('Recall:',recall_score(y_test,y_test_pred))"
   ]
  },
  {
   "cell_type": "markdown",
   "id": "e2769485",
   "metadata": {},
   "source": [
    "The results in both cases are good, but we can clearly see there is overfitting."
   ]
  },
  {
   "cell_type": "markdown",
   "id": "05f56c35",
   "metadata": {},
   "source": [
    "### Problem 2: Random Forest classification\n",
    "\n",
    "Decision Trees are rarely used as stand-alone classifiers; instead they are used to construct the more powerful (and less prone to overfitting) random forests.\n",
    "\n",
    "Train the default version of the Random Forest classifier from `scikit-learn` to predict whether a datapoint in your set is a star or a galaxy. Report the same metrics as before.\n",
    "\n",
    "This may take a couple of minutes.\n",
    "\n",
    "### Problem 2 Solution:"
   ]
  },
  {
   "cell_type": "code",
   "execution_count": 59,
   "id": "a0bda460",
   "metadata": {},
   "outputs": [
    {
     "data": {
      "text/plain": [
       "RandomForestClassifier()"
      ]
     },
     "execution_count": 59,
     "metadata": {},
     "output_type": "execute_result"
    }
   ],
   "source": [
    "from sklearn.ensemble import RandomForestClassifier\n",
    "\n",
    "# Define the Random Forest\n",
    "RF_clf = RandomForestClassifier()\n",
    "\n",
    "# Fit\n",
    "RF_clf.fit(X_train,y_train)"
   ]
  },
  {
   "cell_type": "markdown",
   "id": "a7788b62",
   "metadata": {},
   "source": [
    "Predict on training and test sets"
   ]
  },
  {
   "cell_type": "code",
   "execution_count": 60,
   "id": "14ccaa4e",
   "metadata": {},
   "outputs": [],
   "source": [
    "y_train_pred = RF_clf.predict(X_train) \n",
    "y_test_pred = RF_clf.predict(X_test)"
   ]
  },
  {
   "cell_type": "markdown",
   "id": "6c5f9861",
   "metadata": {},
   "source": [
    "Performance on the **training set**:"
   ]
  },
  {
   "cell_type": "code",
   "execution_count": 61,
   "id": "0bb28db2",
   "metadata": {},
   "outputs": [
    {
     "name": "stdout",
     "output_type": "stream",
     "text": [
      "Accuracy: 1.0\n",
      "Balanced: 1.0\n",
      "Precision: 1.0\n",
      "Recall: 1.0\n"
     ]
    }
   ],
   "source": [
    "print('Accuracy:',accuracy_score(y_train,y_train_pred))\n",
    "print('Balanced:',balanced_accuracy_score(y_train,y_train_pred))\n",
    "print('Precision:',precision_score(y_train,y_train_pred))\n",
    "print('Recall:',recall_score(y_train,y_train_pred))"
   ]
  },
  {
   "cell_type": "markdown",
   "id": "484ead46",
   "metadata": {},
   "source": [
    "Performance on the **test set**:"
   ]
  },
  {
   "cell_type": "code",
   "execution_count": 62,
   "id": "be0d14ed",
   "metadata": {},
   "outputs": [
    {
     "name": "stdout",
     "output_type": "stream",
     "text": [
      "Accuracy: 0.939823955248437\n",
      "Balanced: 0.9118974411053217\n",
      "Precision: 0.9149608919953404\n",
      "Recall: 0.8524031007751938\n"
     ]
    }
   ],
   "source": [
    "print('Accuracy:',accuracy_score(y_test,y_test_pred))\n",
    "print('Balanced:',balanced_accuracy_score(y_test,y_test_pred))\n",
    "print('Precision:',precision_score(y_test,y_test_pred))\n",
    "print('Recall:',recall_score(y_test,y_test_pred))"
   ]
  },
  {
   "cell_type": "markdown",
   "id": "9096bc1b",
   "metadata": {},
   "source": [
    "### Problem 3: Hyperparameter selection with the Cross-Validation score\n",
    "\n",
    "We saw above that the decision tree overfits. One of the most important hyperparametrs we can tweak to prevent this is the maximum depth of the tree - the number of splits. By default, `scikit-learn` splits the dataset in such a way that each node is pure (has data points belonging to the same class) or just two data points.\n",
    "\n",
    "Using the Cross-Validation method (you can select $k=3$ or $k=5$), select the optimal maximum depth of the tree.\n",
    "You can use `scikit-learn` to calculate the cross validation score for a number of different values of the `max_depth` parameter. What is the optimal value?\n",
    "\n",
    "What is the balanced accuracy in the training and test sets when the optimal value is used? Comment on overfitting.\n",
    "\n",
    "\n",
    "**Hints:** Check the cross-validation score implementation here: https://scikit-learn.org/stable/modules/generated/sklearn.model_selection.cross_val_score.html\n",
    "\n",
    "Also, you will need to run a for loop, and calculate the CV score for different values of `max_depth` inside your classifier."
   ]
  },
  {
   "cell_type": "markdown",
   "id": "258021ed",
   "metadata": {},
   "source": [
    "### Problem 3 Solution:"
   ]
  },
  {
   "cell_type": "code",
   "execution_count": 77,
   "id": "05987c30",
   "metadata": {},
   "outputs": [
    {
     "name": "stdout",
     "output_type": "stream",
     "text": [
      "[0.87061519 0.87572713 0.87025121 0.87483473 0.8704275 ]\n",
      "[0.90816147 0.90860215 0.90013222 0.903658   0.90215954]\n",
      "[0.92314472 0.92543628 0.92216836 0.92137506 0.92428383]\n",
      "[0.90031729 0.90507668 0.90506831 0.89643015 0.90471573]\n",
      "[0.90349022 0.90516482 0.90136624 0.89863376 0.90453944]\n"
     ]
    }
   ],
   "source": [
    "values = [2,5,10,50,100]\n",
    "\n",
    "# Define base classifier again\n",
    "\n",
    "for depth in values:\n",
    "    \n",
    "    #Define base classifier\n",
    "    DT_clf = DecisionTreeClassifier(max_depth=depth)\n",
    "    print(cross_val_score(DT_clf, X_train, y_train, cv=5))"
   ]
  },
  {
   "cell_type": "markdown",
   "id": "36021c7d",
   "metadata": {},
   "source": [
    "We get the best score for `max_depth=10`. Let's train and predict with that"
   ]
  },
  {
   "cell_type": "code",
   "execution_count": 78,
   "id": "b035649d",
   "metadata": {},
   "outputs": [
    {
     "data": {
      "text/plain": [
       "DecisionTreeClassifier(max_depth=10)"
      ]
     },
     "execution_count": 78,
     "metadata": {},
     "output_type": "execute_result"
    }
   ],
   "source": [
    "# Define\n",
    "DT_clf_best = DecisionTreeClassifier(max_depth=10)\n",
    "\n",
    "# Fit\n",
    "DT_clf_best.fit(X_train,y_train)"
   ]
  },
  {
   "cell_type": "code",
   "execution_count": 79,
   "id": "9620011f",
   "metadata": {},
   "outputs": [],
   "source": [
    "y_train_pred = DT_clf_best.predict(X_train) \n",
    "y_test_pred = DT_clf_best.predict(X_test)"
   ]
  },
  {
   "cell_type": "code",
   "execution_count": 80,
   "id": "aca07deb",
   "metadata": {},
   "outputs": [
    {
     "name": "stdout",
     "output_type": "stream",
     "text": [
      "Balanced accuracy on the training set: 0.9190180705360326\n",
      "Balanced accuracy on the test set: 0.8909501006423928\n"
     ]
    }
   ],
   "source": [
    "print('Balanced accuracy on the training set:',balanced_accuracy_score(y_train,y_train_pred))\n",
    "print('Balanced accuracy on the test set:',balanced_accuracy_score(y_test,y_test_pred))"
   ]
  },
  {
   "cell_type": "markdown",
   "id": "a36b374f",
   "metadata": {},
   "source": [
    "### Problem 4: Hyperparameter selection with the Cross-Validation grid search\n",
    "\n",
    "For some algorithms you may need to optimize for more than one hyperparameter. For example, you can set the `max_features` hyperaparameter that controls how many features are being considered at each split. \n",
    "\n",
    "Writing multiple nested for loops, as we did above, may not be optimal or elegant. `Scikit` can do a grid-search Cross-Validation under the hood and give you the optimal combination of hyperparameters that give the best performing algorithm.\n",
    "\n",
    "Use the Grid Search CV here: https://scikit-learn.org/stable/modules/generated/sklearn.model_selection.GridSearchCV.html to find the optimal combination of `max_depth` and `max_features` (note: this number cannot be larger than 23, the number of features we have).\n",
    "\n",
    "Report the training and test set balanced accuracy for the optimal combination of parameters.\n",
    "\n",
    "Notice: This may take some time to run.\n",
    "\n",
    "\n",
    "### Problem 4 Solution:"
   ]
  },
  {
   "cell_type": "code",
   "execution_count": 86,
   "id": "f0c3150a",
   "metadata": {},
   "outputs": [
    {
     "name": "stdout",
     "output_type": "stream",
     "text": [
      "{'max_depth': 10, 'max_features': 20}\n"
     ]
    }
   ],
   "source": [
    "from sklearn.model_selection import GridSearchCV\n",
    "\n",
    "\n",
    "# Define basic classifier\n",
    "DT_clf = DecisionTreeClassifier()\n",
    "\n",
    "# Parameter grid\n",
    "param_grid = {'max_depth': [2,5,10,50],\n",
    "              'max_features': [5,10,15,20]}\n",
    "\n",
    "# Define grid scores\n",
    "grid = GridSearchCV(DT_clf, param_grid)\n",
    "\n",
    "# Fit\n",
    "grid.fit(X_train, y_train)\n",
    "print(grid.best_params_)"
   ]
  },
  {
   "cell_type": "code",
   "execution_count": 89,
   "id": "2a6b39f9",
   "metadata": {},
   "outputs": [
    {
     "data": {
      "text/plain": [
       "DecisionTreeClassifier(max_depth=10, max_features=20)"
      ]
     },
     "execution_count": 89,
     "metadata": {},
     "output_type": "execute_result"
    }
   ],
   "source": [
    "DT_best = DecisionTreeClassifier(max_depth=10, max_features=20)\n",
    "DT_best.fit(X_train,y_train)"
   ]
  },
  {
   "cell_type": "markdown",
   "id": "1ea7e328",
   "metadata": {},
   "source": [
    "Make Predictions"
   ]
  },
  {
   "cell_type": "code",
   "execution_count": 90,
   "id": "de13afa6",
   "metadata": {},
   "outputs": [],
   "source": [
    "y_train_pred = DT_best.predict(X_train) \n",
    "y_test_pred = DT_best.predict(X_test)"
   ]
  },
  {
   "cell_type": "code",
   "execution_count": 91,
   "id": "ef4dee3b",
   "metadata": {},
   "outputs": [
    {
     "name": "stdout",
     "output_type": "stream",
     "text": [
      "Balanced accuracy on the training set: 0.9200793060929103\n",
      "Balanced accuracy on the test set: 0.8929483924558567\n"
     ]
    }
   ],
   "source": [
    "print('Balanced accuracy on the training set:',balanced_accuracy_score(y_train,y_train_pred))\n",
    "print('Balanced accuracy on the test set:',balanced_accuracy_score(y_test,y_test_pred))"
   ]
  },
  {
   "cell_type": "code",
   "execution_count": null,
   "id": "2bf0f1af",
   "metadata": {},
   "outputs": [],
   "source": []
  }
 ],
 "metadata": {
  "kernelspec": {
   "display_name": "Python 3",
   "language": "python",
   "name": "python3"
  },
  "language_info": {
   "codemirror_mode": {
    "name": "ipython",
    "version": 3
   },
   "file_extension": ".py",
   "mimetype": "text/x-python",
   "name": "python",
   "nbconvert_exporter": "python",
   "pygments_lexer": "ipython3",
   "version": "3.9.1"
  }
 },
 "nbformat": 4,
 "nbformat_minor": 5
}
