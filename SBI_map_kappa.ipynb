{
  "nbformat": 4,
  "nbformat_minor": 0,
  "metadata": {
    "colab": {
      "provenance": [],
      "machine_shape": "hm"
    },
    "kernelspec": {
      "name": "python3",
      "display_name": "Python 3"
    },
    "language_info": {
      "name": "python"
    },
    "accelerator": "GPU",
    "gpuClass": "standard",
    "widgets": {
      "application/vnd.jupyter.widget-state+json": {
        "554069cf0f1d48b3a6236f5314fd8288": {
          "model_module": "@jupyter-widgets/controls",
          "model_name": "HBoxModel",
          "model_module_version": "1.5.0",
          "state": {
            "_dom_classes": [],
            "_model_module": "@jupyter-widgets/controls",
            "_model_module_version": "1.5.0",
            "_model_name": "HBoxModel",
            "_view_count": null,
            "_view_module": "@jupyter-widgets/controls",
            "_view_module_version": "1.5.0",
            "_view_name": "HBoxView",
            "box_style": "",
            "children": [
              "IPY_MODEL_06dd059d8d194fddada932d571980db2",
              "IPY_MODEL_124870baf5d4436e858c4904f575c39e",
              "IPY_MODEL_cb23d82059db449c8f0510b3d4e20bdb"
            ],
            "layout": "IPY_MODEL_df27059b10f3448790a4b07a41d0edb3"
          }
        },
        "06dd059d8d194fddada932d571980db2": {
          "model_module": "@jupyter-widgets/controls",
          "model_name": "HTMLModel",
          "model_module_version": "1.5.0",
          "state": {
            "_dom_classes": [],
            "_model_module": "@jupyter-widgets/controls",
            "_model_module_version": "1.5.0",
            "_model_name": "HTMLModel",
            "_view_count": null,
            "_view_module": "@jupyter-widgets/controls",
            "_view_module_version": "1.5.0",
            "_view_name": "HTMLView",
            "description": "",
            "description_tooltip": null,
            "layout": "IPY_MODEL_abce8aa2a2d04905b2984d1df2e9c7d5",
            "placeholder": "​",
            "style": "IPY_MODEL_c0480f794d9945f99e69cc4d2eef2a6b",
            "value": "Drawing 10000 posterior samples: "
          }
        },
        "124870baf5d4436e858c4904f575c39e": {
          "model_module": "@jupyter-widgets/controls",
          "model_name": "FloatProgressModel",
          "model_module_version": "1.5.0",
          "state": {
            "_dom_classes": [],
            "_model_module": "@jupyter-widgets/controls",
            "_model_module_version": "1.5.0",
            "_model_name": "FloatProgressModel",
            "_view_count": null,
            "_view_module": "@jupyter-widgets/controls",
            "_view_module_version": "1.5.0",
            "_view_name": "ProgressView",
            "bar_style": "success",
            "description": "",
            "description_tooltip": null,
            "layout": "IPY_MODEL_79b8f76f343e42abb7ba834432e841d8",
            "max": 10000,
            "min": 0,
            "orientation": "horizontal",
            "style": "IPY_MODEL_96cb63d5d3e24787b7ba8ff5ffd26074",
            "value": 10000
          }
        },
        "cb23d82059db449c8f0510b3d4e20bdb": {
          "model_module": "@jupyter-widgets/controls",
          "model_name": "HTMLModel",
          "model_module_version": "1.5.0",
          "state": {
            "_dom_classes": [],
            "_model_module": "@jupyter-widgets/controls",
            "_model_module_version": "1.5.0",
            "_model_name": "HTMLModel",
            "_view_count": null,
            "_view_module": "@jupyter-widgets/controls",
            "_view_module_version": "1.5.0",
            "_view_name": "HTMLView",
            "description": "",
            "description_tooltip": null,
            "layout": "IPY_MODEL_495bfbf89cf34f618e1ebd5b5cd2121f",
            "placeholder": "​",
            "style": "IPY_MODEL_76d1405083bc48e1a0bde93a9a59b282",
            "value": " 10088/? [00:03&lt;00:00, 2732.37it/s]"
          }
        },
        "df27059b10f3448790a4b07a41d0edb3": {
          "model_module": "@jupyter-widgets/base",
          "model_name": "LayoutModel",
          "model_module_version": "1.2.0",
          "state": {
            "_model_module": "@jupyter-widgets/base",
            "_model_module_version": "1.2.0",
            "_model_name": "LayoutModel",
            "_view_count": null,
            "_view_module": "@jupyter-widgets/base",
            "_view_module_version": "1.2.0",
            "_view_name": "LayoutView",
            "align_content": null,
            "align_items": null,
            "align_self": null,
            "border": null,
            "bottom": null,
            "display": null,
            "flex": null,
            "flex_flow": null,
            "grid_area": null,
            "grid_auto_columns": null,
            "grid_auto_flow": null,
            "grid_auto_rows": null,
            "grid_column": null,
            "grid_gap": null,
            "grid_row": null,
            "grid_template_areas": null,
            "grid_template_columns": null,
            "grid_template_rows": null,
            "height": null,
            "justify_content": null,
            "justify_items": null,
            "left": null,
            "margin": null,
            "max_height": null,
            "max_width": null,
            "min_height": null,
            "min_width": null,
            "object_fit": null,
            "object_position": null,
            "order": null,
            "overflow": null,
            "overflow_x": null,
            "overflow_y": null,
            "padding": null,
            "right": null,
            "top": null,
            "visibility": null,
            "width": null
          }
        },
        "abce8aa2a2d04905b2984d1df2e9c7d5": {
          "model_module": "@jupyter-widgets/base",
          "model_name": "LayoutModel",
          "model_module_version": "1.2.0",
          "state": {
            "_model_module": "@jupyter-widgets/base",
            "_model_module_version": "1.2.0",
            "_model_name": "LayoutModel",
            "_view_count": null,
            "_view_module": "@jupyter-widgets/base",
            "_view_module_version": "1.2.0",
            "_view_name": "LayoutView",
            "align_content": null,
            "align_items": null,
            "align_self": null,
            "border": null,
            "bottom": null,
            "display": null,
            "flex": null,
            "flex_flow": null,
            "grid_area": null,
            "grid_auto_columns": null,
            "grid_auto_flow": null,
            "grid_auto_rows": null,
            "grid_column": null,
            "grid_gap": null,
            "grid_row": null,
            "grid_template_areas": null,
            "grid_template_columns": null,
            "grid_template_rows": null,
            "height": null,
            "justify_content": null,
            "justify_items": null,
            "left": null,
            "margin": null,
            "max_height": null,
            "max_width": null,
            "min_height": null,
            "min_width": null,
            "object_fit": null,
            "object_position": null,
            "order": null,
            "overflow": null,
            "overflow_x": null,
            "overflow_y": null,
            "padding": null,
            "right": null,
            "top": null,
            "visibility": null,
            "width": null
          }
        },
        "c0480f794d9945f99e69cc4d2eef2a6b": {
          "model_module": "@jupyter-widgets/controls",
          "model_name": "DescriptionStyleModel",
          "model_module_version": "1.5.0",
          "state": {
            "_model_module": "@jupyter-widgets/controls",
            "_model_module_version": "1.5.0",
            "_model_name": "DescriptionStyleModel",
            "_view_count": null,
            "_view_module": "@jupyter-widgets/base",
            "_view_module_version": "1.2.0",
            "_view_name": "StyleView",
            "description_width": ""
          }
        },
        "79b8f76f343e42abb7ba834432e841d8": {
          "model_module": "@jupyter-widgets/base",
          "model_name": "LayoutModel",
          "model_module_version": "1.2.0",
          "state": {
            "_model_module": "@jupyter-widgets/base",
            "_model_module_version": "1.2.0",
            "_model_name": "LayoutModel",
            "_view_count": null,
            "_view_module": "@jupyter-widgets/base",
            "_view_module_version": "1.2.0",
            "_view_name": "LayoutView",
            "align_content": null,
            "align_items": null,
            "align_self": null,
            "border": null,
            "bottom": null,
            "display": null,
            "flex": null,
            "flex_flow": null,
            "grid_area": null,
            "grid_auto_columns": null,
            "grid_auto_flow": null,
            "grid_auto_rows": null,
            "grid_column": null,
            "grid_gap": null,
            "grid_row": null,
            "grid_template_areas": null,
            "grid_template_columns": null,
            "grid_template_rows": null,
            "height": null,
            "justify_content": null,
            "justify_items": null,
            "left": null,
            "margin": null,
            "max_height": null,
            "max_width": null,
            "min_height": null,
            "min_width": null,
            "object_fit": null,
            "object_position": null,
            "order": null,
            "overflow": null,
            "overflow_x": null,
            "overflow_y": null,
            "padding": null,
            "right": null,
            "top": null,
            "visibility": null,
            "width": null
          }
        },
        "96cb63d5d3e24787b7ba8ff5ffd26074": {
          "model_module": "@jupyter-widgets/controls",
          "model_name": "ProgressStyleModel",
          "model_module_version": "1.5.0",
          "state": {
            "_model_module": "@jupyter-widgets/controls",
            "_model_module_version": "1.5.0",
            "_model_name": "ProgressStyleModel",
            "_view_count": null,
            "_view_module": "@jupyter-widgets/base",
            "_view_module_version": "1.2.0",
            "_view_name": "StyleView",
            "bar_color": null,
            "description_width": ""
          }
        },
        "495bfbf89cf34f618e1ebd5b5cd2121f": {
          "model_module": "@jupyter-widgets/base",
          "model_name": "LayoutModel",
          "model_module_version": "1.2.0",
          "state": {
            "_model_module": "@jupyter-widgets/base",
            "_model_module_version": "1.2.0",
            "_model_name": "LayoutModel",
            "_view_count": null,
            "_view_module": "@jupyter-widgets/base",
            "_view_module_version": "1.2.0",
            "_view_name": "LayoutView",
            "align_content": null,
            "align_items": null,
            "align_self": null,
            "border": null,
            "bottom": null,
            "display": null,
            "flex": null,
            "flex_flow": null,
            "grid_area": null,
            "grid_auto_columns": null,
            "grid_auto_flow": null,
            "grid_auto_rows": null,
            "grid_column": null,
            "grid_gap": null,
            "grid_row": null,
            "grid_template_areas": null,
            "grid_template_columns": null,
            "grid_template_rows": null,
            "height": null,
            "justify_content": null,
            "justify_items": null,
            "left": null,
            "margin": null,
            "max_height": null,
            "max_width": null,
            "min_height": null,
            "min_width": null,
            "object_fit": null,
            "object_position": null,
            "order": null,
            "overflow": null,
            "overflow_x": null,
            "overflow_y": null,
            "padding": null,
            "right": null,
            "top": null,
            "visibility": null,
            "width": null
          }
        },
        "76d1405083bc48e1a0bde93a9a59b282": {
          "model_module": "@jupyter-widgets/controls",
          "model_name": "DescriptionStyleModel",
          "model_module_version": "1.5.0",
          "state": {
            "_model_module": "@jupyter-widgets/controls",
            "_model_module_version": "1.5.0",
            "_model_name": "DescriptionStyleModel",
            "_view_count": null,
            "_view_module": "@jupyter-widgets/base",
            "_view_module_version": "1.2.0",
            "_view_name": "StyleView",
            "description_width": ""
          }
        }
      }
    }
  },
  "cells": [
    {
      "cell_type": "markdown",
      "source": [
        "### Cosmological parameter inference from $\\kappa$ maps with SBI\n",
        "\n",
        "Predicting the posteriors of the two cosmological parameters, $\\Omega_m$ -- $\\sigma_8$, \n",
        "\n",
        "**Import packages**"
      ],
      "metadata": {
        "id": "CWyDvG7fQI3g"
      }
    },
    {
      "cell_type": "code",
      "source": [
        "#! apt-get update\n",
        "#!sudo apt-get install texlive-latex-recommended \n",
        "#! sudo apt install texlive-latex-extra\n",
        "#! sudo apt install dvipng\n",
        "#!apt install cm-super\n",
        "#!pip install chainconsumer"
      ],
      "metadata": {
        "id": "1Yh9E_9TQKhe"
      },
      "execution_count": 1,
      "outputs": []
    },
    {
      "cell_type": "code",
      "source": [
        "#!pip install sbi"
      ],
      "metadata": {
        "id": "hbGfrvV3nrWL"
      },
      "execution_count": 2,
      "outputs": []
    },
    {
      "cell_type": "code",
      "source": [
        "import numpy as np\n",
        "import torch\n",
        "import torch.nn as nn \n",
        "import torch.nn.functional as F \n",
        "from sbi import utils, inference\n",
        "# from sbi import inference\n",
        "from sbi.inference import SNPE, simulate_for_sbi, prepare_for_sbi\n",
        "import numpy as np\n",
        "import scipy as sp\n",
        "from mpl_toolkits.axes_grid1 import make_axes_locatable\n",
        "from scipy import stats\n",
        "\n",
        "# Matplotlib, getdist, seaborn and plot pretty \n",
        "import matplotlib.pyplot as plt\n",
        "import matplotlib\n",
        "import matplotlib.gridspec as gridspec\n",
        "import seaborn as sns\n",
        "%matplotlib inline\n",
        "from matplotlib import rcParams\n",
        "rcParams['font.family'] = 'serif'\n",
        "\n",
        "# from mpl_toolkits.axes_grid1 import make_axes_locatable\n",
        "# \n",
        "# # Adjust rc parameters to make plots pretty\n",
        "def plot_pretty(dpi=200, fontsize=12):\n",
        "    plt.rc(\"savefig\", dpi=dpi)       # dpi resolution of saved image files\n",
        "    plt.rc('text', usetex=False)      # use LaTeX to process labels\n",
        "    plt.rc('font', size=fontsize)    # fontsize\n",
        "    plt.rc('xtick', direction='in')  # make axes ticks point inward\n",
        "    plt.rc('ytick', direction='in')\n",
        "    plt.rc('xtick.major', pad=10) \n",
        "    plt.rc('xtick.minor', pad=5)\n",
        "    plt.rc('ytick.major', pad=10) \n",
        "    plt.rc('ytick.minor', pad=5)\n",
        "    plt.rc('lines', dotted_pattern = [0.5, 1.1]) # fix dotted lines\n",
        "    return\n",
        "\n",
        "plot_pretty()\n",
        "\n"
      ],
      "metadata": {
        "id": "G-ikkimcQKkx"
      },
      "execution_count": 3,
      "outputs": []
    },
    {
      "cell_type": "code",
      "source": [
        "# Import basic packages\n",
        "import scipy as sp\n",
        "import pandas as pd\n",
        "\n",
        "\n",
        "# Colab in order to download files\n",
        "from google.colab import files\n",
        "\n",
        "# Scikit-learn for scaling and preprocessing\n",
        "from sklearn.preprocessing import StandardScaler\n",
        "from sklearn.preprocessing import MinMaxScaler\n",
        "from sklearn.model_selection import train_test_split\n",
        "\n",
        "# Chainconsumer\n",
        "from chainconsumer import ChainConsumer"
      ],
      "metadata": {
        "id": "5521_LBQQKnT"
      },
      "execution_count": 4,
      "outputs": []
    },
    {
      "cell_type": "markdown",
      "source": [
        "### Import datasets"
      ],
      "metadata": {
        "id": "NWiUR2lHQKpG"
      }
    },
    {
      "cell_type": "code",
      "source": [
        "# Mount drive to upload the datasets\n",
        "from google.colab import drive\n",
        "drive.mount('/content/drive')"
      ],
      "metadata": {
        "colab": {
          "base_uri": "https://localhost:8080/"
        },
        "id": "ODzEhhTBQKsS",
        "outputId": "58cf935a-5473-4bcf-c8bc-09b0d8be248b"
      },
      "execution_count": 5,
      "outputs": [
        {
          "output_type": "stream",
          "name": "stdout",
          "text": [
            "Drive already mounted at /content/drive; to attempt to forcibly remount, call drive.mount(\"/content/drive\", force_remount=True).\n"
          ]
        }
      ]
    },
    {
      "cell_type": "code",
      "source": [
        "# IMAGE PATH\n",
        "PLT_PATH = '/content/drive/My Drive/Maps_Project/Summary_January_2023/Plots/'\n",
        "\n",
        "# MODEL WEIGHTS PATH\n",
        "MDL_WEIGHTS_PATH = '/content/drive/My Drive/Maps_Project/Summary_January_2023/Saved_Models/'\n",
        "\n",
        "# Define the data path\n",
        "PATH = '/content/drive/My Drive/Maps_Project/Summary_January_2023/Datasets/'"
      ],
      "metadata": {
        "id": "5pjRG7dXQLES"
      },
      "execution_count": 6,
      "outputs": []
    },
    {
      "cell_type": "code",
      "source": [
        "# ============================= Labels ========================================= \n",
        "\n",
        "# Training\n",
        "y_cosmo_train = np.float64(np.load(PATH+\"ACTUAL_cosmo_params_jz1_runsC.npy\"))[:,0:2]  \n",
        "# Validation and Test\n",
        "y_cosmo_valtest = np.float64(np.load(PATH+\"ACTUAL_cosmo_params_jz1_runsE.npy\"))[:,0:2] \n",
        "\n",
        "print(np.shape(y_cosmo_train))\n",
        "print(np.shape(y_cosmo_valtest))"
      ],
      "metadata": {
        "colab": {
          "base_uri": "https://localhost:8080/"
        },
        "id": "Rkco8hUXow56",
        "outputId": "c6ee68cd-f52c-4a58-b092-a2c5ed56b1fe"
      },
      "execution_count": 7,
      "outputs": [
        {
          "output_type": "stream",
          "name": "stdout",
          "text": [
            "(19200, 2)\n",
            "(9600, 2)\n"
          ]
        }
      ]
    },
    {
      "cell_type": "code",
      "source": [
        "# Training \n",
        "X_maps_train = np.float64(np.load(PATH+\"maps_jz1_runsC.npy\")) # Redshift bin1\n",
        "#X_train_bin2 = np.float64(np.load(PATH+\"maps_jz2_runsC.npy\")) # Redshift bin2\n",
        "\n",
        "# Validation and Test\n",
        "X_maps_valtest = np.float64(np.load(PATH+\"maps_jz1_runsE.npy\")) # Redshift bin1\n",
        "#X_valtest_bin2 = np.float64(np.load(PATH+\"maps_jz2_runsE.npy\")) # Redshift bin2"
      ],
      "metadata": {
        "id": "x1zLp4M3oxCz"
      },
      "execution_count": 8,
      "outputs": []
    },
    {
      "cell_type": "code",
      "source": [
        "#X_maps_train = np.stack([X_train_bin1,X_train_bin2],axis=-1) # Train \n",
        "#X_maps_valtest = np.stack([X_valtest_bin1,X_valtest_bin2],axis=-1) # Validation\n",
        "\n",
        "# Delete the bin files\n",
        "#del X_train_bin1, X_train_bin2, X_valtest_bin1, X_valtest_bin2"
      ],
      "metadata": {
        "id": "tYiKhWSjoxFO"
      },
      "execution_count": 9,
      "outputs": []
    },
    {
      "cell_type": "markdown",
      "source": [
        "### Split into validation and test sets"
      ],
      "metadata": {
        "id": "Q6q3PoDIoxIW"
      }
    },
    {
      "cell_type": "code",
      "source": [
        "# Data\n",
        "X_maps_val = X_maps_valtest[0:4000]\n",
        "X_maps_test = X_maps_valtest[4000:]\n",
        "\n",
        "# Labels\n",
        "y_cosmo_val = y_cosmo_valtest[0:4000]\n",
        "y_cosmo_test = y_cosmo_valtest[4000:]\n",
        "\n",
        "# Delete the valtest datasets now\n",
        "del X_maps_valtest, y_cosmo_valtest"
      ],
      "metadata": {
        "id": "IJdF6_jTo-F1"
      },
      "execution_count": 9,
      "outputs": []
    },
    {
      "cell_type": "code",
      "source": [
        "# Rescale the labels here \n",
        "\n",
        "# Define the scaler\n",
        "scaler = MinMaxScaler()\n",
        "\n",
        "# Fit the scaler \n",
        "scaler.fit(y_cosmo_train)\n",
        "\n",
        "# Rescale\n",
        "y_train_sc = scaler.transform(y_cosmo_train)\n",
        "y_val_sc = scaler.transform(y_cosmo_val)\n",
        "y_test_sc = scaler.transform(y_cosmo_test)"
      ],
      "metadata": {
        "id": "TKf0Ym9io-I9"
      },
      "execution_count": 10,
      "outputs": []
    },
    {
      "cell_type": "code",
      "source": [
        "print(np.shape(X_maps_train))\n",
        "print(np.shape(y_train_sc))"
      ],
      "metadata": {
        "colab": {
          "base_uri": "https://localhost:8080/"
        },
        "id": "uAEyflGJo-MH",
        "outputId": "8b1f527f-0221-4643-954d-29ba7a0bc661"
      },
      "execution_count": 11,
      "outputs": [
        {
          "output_type": "stream",
          "name": "stdout",
          "text": [
            "(19200, 134, 134)\n",
            "(19200, 2)\n"
          ]
        }
      ]
    },
    {
      "cell_type": "markdown",
      "source": [
        "### Reshape maps to 32x32"
      ],
      "metadata": {
        "id": "26qYwWygQLu4"
      }
    },
    {
      "cell_type": "code",
      "source": [
        "from PIL import Image\n",
        "from skimage.transform import resize"
      ],
      "metadata": {
        "id": "isA_Jn8izEQG"
      },
      "execution_count": 12,
      "outputs": []
    },
    {
      "cell_type": "code",
      "source": [
        "# Length/size of training set\n",
        "leng_train = np.shape(X_maps_train)[0]\n",
        "leng_test = np.shape(X_maps_test)[0]\n",
        "\n",
        "print('Size of training set:',leng_train)\n",
        "print('Size of test set:', leng_test)"
      ],
      "metadata": {
        "colab": {
          "base_uri": "https://localhost:8080/"
        },
        "id": "ywKuZIhezETx",
        "outputId": "0324039c-786d-4fcd-be56-ac450ec57f61"
      },
      "execution_count": 13,
      "outputs": [
        {
          "output_type": "stream",
          "name": "stdout",
          "text": [
            "Size of training set: 19200\n",
            "Size of test set: 5600\n"
          ]
        }
      ]
    },
    {
      "cell_type": "code",
      "source": [
        "X_train_resize = np.zeros([leng_train,32,32]) \n",
        "X_test_resize = np.zeros([leng_test,32,32])\n",
        "\n",
        "\n",
        "# Reshape training set\n",
        "for i in range(leng_train):\n",
        "  X_map_i = X_maps_train[i]\n",
        "  X_train_resize[i] = resize(X_map_i, (32,32))\n",
        "\n",
        "# Reshape test set\n",
        "for i in range(leng_test):\n",
        "  X_map_i = X_maps_test[i]\n",
        "  X_test_resize[i] = resize(X_map_i, (32,32))"
      ],
      "metadata": {
        "id": "lGN8t8UWQL-y"
      },
      "execution_count": 14,
      "outputs": []
    },
    {
      "cell_type": "markdown",
      "source": [
        "**Let's plot a resized image**"
      ],
      "metadata": {
        "id": "9A1Lldv3a30w"
      }
    },
    {
      "cell_type": "code",
      "source": [
        "plt.figure(figsize=(10,5))\n",
        "plt.imshow(X_test_resize[100],cmap='viridis')\n",
        "plt.axis('off')"
      ],
      "metadata": {
        "colab": {
          "base_uri": "https://localhost:8080/",
          "height": 439
        },
        "id": "DzaxqEqCYlcn",
        "outputId": "b5e7bea3-c4be-4f51-b598-740a8bb81d57"
      },
      "execution_count": 15,
      "outputs": [
        {
          "output_type": "execute_result",
          "data": {
            "text/plain": [
              "(-0.5, 31.5, 31.5, -0.5)"
            ]
          },
          "metadata": {},
          "execution_count": 15
        },
        {
          "output_type": "display_data",
          "data": {
            "text/plain": [
              "<Figure size 1000x500 with 1 Axes>"
            ],
            "image/png": "[encoded data removed]"
          },
          "metadata": {}
        }
      ]
    },
    {
      "cell_type": "markdown",
      "source": [
        "### Train the SPNE model\n",
        "\n",
        "\n",
        "\n",
        "**First define a summary statistic model**"
      ],
      "metadata": {
        "id": "AG5ud6IKaxtu"
      }
    },
    {
      "cell_type": "code",
      "source": [
        "class SummaryNet(nn.Module): \n",
        "    \n",
        "    def __init__(self): \n",
        "        super().__init__()\n",
        "        # 2D convolutional layer\n",
        "        self.conv1 = nn.Conv2d(in_channels=1, out_channels=8, kernel_size=3, padding='same')\n",
        "        self.bn1 = nn.BatchNorm2d(8)\n",
        "        self.conv2 = nn.Conv2d(in_channels=8, out_channels=16, kernel_size=3, padding='same')\n",
        "        self.bn2 = nn.BatchNorm2d(16)\n",
        "        \n",
        "        self.conv3 = nn.Conv2d(in_channels=16, out_channels=32, kernel_size=3, padding='same')\n",
        "        self.bn3 = nn.BatchNorm2d(32)\n",
        "        self.conv4 = nn.Conv2d(in_channels=32, out_channels=32, kernel_size=3, padding='same')\n",
        "        self.bn4 = nn.BatchNorm2d(32)\n",
        "        \n",
        "        self.conv5 = nn.Conv2d(in_channels=32, out_channels=64, kernel_size=3, padding='same')\n",
        "        self.bn5 = nn.BatchNorm2d(64)\n",
        "        self.conv6 = nn.Conv2d(in_channels=64, out_channels=128, kernel_size=3, padding='same')\n",
        "        self.bn6 = nn.BatchNorm2d(128)\n",
        "\n",
        "        # Maxpool layer that reduces 32x32 image to 4x4\n",
        "        self.pool = nn.MaxPool2d(kernel_size=2, stride=2)\n",
        "        # Fully connected layer taking as input the 6 flattened output arrays from the maxpooling layer\n",
        "        self.fc = nn.Linear(in_features=128*4*4, out_features=48) \n",
        "        \n",
        "    def forward(self, x):\n",
        "        x = x.view(-1, 1, 32, 32)\n",
        "        \n",
        "        x = (self.bn1(F.relu(self.conv1(x))))\n",
        "        x = self.pool(self.bn2(F.relu(self.conv2(x))))\n",
        "        \n",
        "        x = self.bn3(F.relu(self.conv3(x)))\n",
        "        x = self.pool(self.bn4(F.relu(self.conv4(x))))\n",
        "        \n",
        "        x = self.bn5(F.relu(self.conv5(x)))\n",
        "        x = self.pool(self.bn6(F.relu(self.conv6(x))))\n",
        "        \n",
        "        x = x.view(-1, 128*4*4)\n",
        "        x = F.relu(self.fc(x))\n",
        "        return x\n",
        "        \n",
        "embedding_net = SummaryNet().to('cuda:0')\n",
        "\n",
        "from torchsummary import summary\n",
        "summary(embedding_net, (1, 32, 32))"
      ],
      "metadata": {
        "colab": {
          "base_uri": "https://localhost:8080/"
        },
        "id": "DBVzVmZbbRse",
        "outputId": "d41d76d3-4788-4a36-dc92-dc8c8dcdd70c"
      },
      "execution_count": 17,
      "outputs": [
        {
          "output_type": "stream",
          "name": "stdout",
          "text": [
            "----------------------------------------------------------------\n",
            "        Layer (type)               Output Shape         Param #\n",
            "================================================================\n",
            "            Conv2d-1            [-1, 8, 32, 32]              80\n",
            "       BatchNorm2d-2            [-1, 8, 32, 32]              16\n",
            "            Conv2d-3           [-1, 16, 32, 32]           1,168\n",
            "       BatchNorm2d-4           [-1, 16, 32, 32]              32\n",
            "         MaxPool2d-5           [-1, 16, 16, 16]               0\n",
            "            Conv2d-6           [-1, 32, 16, 16]           4,640\n",
            "       BatchNorm2d-7           [-1, 32, 16, 16]              64\n",
            "            Conv2d-8           [-1, 32, 16, 16]           9,248\n",
            "       BatchNorm2d-9           [-1, 32, 16, 16]              64\n",
            "        MaxPool2d-10             [-1, 32, 8, 8]               0\n",
            "           Conv2d-11             [-1, 64, 8, 8]          18,496\n",
            "      BatchNorm2d-12             [-1, 64, 8, 8]             128\n",
            "           Conv2d-13            [-1, 128, 8, 8]          73,856\n",
            "      BatchNorm2d-14            [-1, 128, 8, 8]             256\n",
            "        MaxPool2d-15            [-1, 128, 4, 4]               0\n",
            "           Linear-16                   [-1, 48]          98,352\n",
            "================================================================\n",
            "Total params: 206,400\n",
            "Trainable params: 206,400\n",
            "Non-trainable params: 0\n",
            "----------------------------------------------------------------\n",
            "Input size (MB): 0.00\n",
            "Forward/backward pass size (MB): 0.88\n",
            "Params size (MB): 0.79\n",
            "Estimated Total Size (MB): 1.67\n",
            "----------------------------------------------------------------\n"
          ]
        }
      ]
    },
    {
      "cell_type": "code",
      "source": [
        "# Priors are between 0-1 because of the scaling\n",
        "prior_low = [0.0, 0.0]\n",
        "prior_high = [1.0, 1.0]\n",
        "\n",
        "# Define prior\n",
        "prior = utils.BoxUniform(low=torch.tensor(prior_low), \n",
        "                             high=torch.tensor(prior_high))  "
      ],
      "metadata": {
        "id": "NoyhmIh7bRvf"
      },
      "execution_count": 18,
      "outputs": []
    },
    {
      "cell_type": "code",
      "source": [
        "# instantiate the neural density estimator\n",
        "neural_posterior = utils.posterior_nn(model='maf',\n",
        "                                      embedding_net=embedding_net,\n",
        "                                      hidden_features=400,\n",
        "                                      num_transforms=20)\n",
        "\n",
        "# setup the inference procedure with the SNPE-C procedure\n",
        "inference = SNPE(prior=prior, density_estimator=neural_posterior)"
      ],
      "metadata": {
        "id": "TaVM42M6cCvE"
      },
      "execution_count": 19,
      "outputs": []
    },
    {
      "cell_type": "code",
      "source": [
        "images = torch.FloatTensor(X_train_resize.reshape(leng_train,1,1024))#[:,0]\n",
        "theta = torch.FloatTensor(y_train_sc)\n",
        "\n",
        "print(np.shape(images))\n",
        "print(np.shape(theta))"
      ],
      "metadata": {
        "colab": {
          "base_uri": "https://localhost:8080/"
        },
        "id": "7K6wjw4qdCCX",
        "outputId": "bacecabe-f6e3-487b-85bb-1ca8b9cd0b27"
      },
      "execution_count": 20,
      "outputs": [
        {
          "output_type": "stream",
          "name": "stdout",
          "text": [
            "torch.Size([19200, 1, 1024])\n",
            "torch.Size([19200, 2])\n"
          ]
        }
      ]
    },
    {
      "cell_type": "code",
      "source": [
        "density_estimator = inference.append_simulations(theta,images).train(max_num_epochs=20)\n",
        "posterior = inference.build_posterior(density_estimator)"
      ],
      "metadata": {
        "colab": {
          "base_uri": "https://localhost:8080/"
        },
        "id": "TNgJmILLcCyZ",
        "outputId": "a64c7003-abdb-414b-decc-f5c77316de38"
      },
      "execution_count": 21,
      "outputs": [
        {
          "output_type": "stream",
          "name": "stderr",
          "text": [
            "/usr/local/lib/python3.9/dist-packages/sbi/utils/user_input_checks.py:435: UserWarning: Mismatch between the device of the data fed to the embedding_net and the device of the embedding_net's weights. Fed data has device 'cpu' vs embedding_net weights have device 'cuda:0'. Automatically switching the embedding_net's device to 'cpu', which could otherwise be done manually using the line `embedding_net.to('cpu')`.\n",
            "  warnings.warn(\n"
          ]
        },
        {
          "output_type": "stream",
          "name": "stdout",
          "text": [
            " Training neural network. Epochs trained: 21"
          ]
        }
      ]
    },
    {
      "cell_type": "markdown",
      "source": [
        "### Make a posterior plot from a test set image"
      ],
      "metadata": {
        "id": "Hd8lhgdHcC2O"
      }
    },
    {
      "cell_type": "code",
      "source": [
        "x_observed = X_test_resize[100].reshape(1,1,1024)\n",
        "y_true_observed = y_test_sc[100]\n",
        "\n",
        "print(y_true_observed)"
      ],
      "metadata": {
        "colab": {
          "base_uri": "https://localhost:8080/"
        },
        "id": "cO_twDb4bRxe",
        "outputId": "68fb2eb6-0250-4776-cd2b-f6c89b404c06"
      },
      "execution_count": 25,
      "outputs": [
        {
          "output_type": "stream",
          "name": "stdout",
          "text": [
            "[0.50787339 0.16861242]\n"
          ]
        }
      ]
    },
    {
      "cell_type": "code",
      "source": [
        "samples = posterior.set_default_x(x_observed).sample((10000,))"
      ],
      "metadata": {
        "colab": {
          "base_uri": "https://localhost:8080/",
          "height": 49,
          "referenced_widgets": [
            "554069cf0f1d48b3a6236f5314fd8288",
            "06dd059d8d194fddada932d571980db2",
            "124870baf5d4436e858c4904f575c39e",
            "cb23d82059db449c8f0510b3d4e20bdb",
            "df27059b10f3448790a4b07a41d0edb3",
            "abce8aa2a2d04905b2984d1df2e9c7d5",
            "c0480f794d9945f99e69cc4d2eef2a6b",
            "79b8f76f343e42abb7ba834432e841d8",
            "96cb63d5d3e24787b7ba8ff5ffd26074",
            "495bfbf89cf34f618e1ebd5b5cd2121f",
            "76d1405083bc48e1a0bde93a9a59b282"
          ]
        },
        "id": "-yqpaDKLbRz0",
        "outputId": "5d8ae6a1-9436-40b9-cfd8-e9a736a9c790"
      },
      "execution_count": 26,
      "outputs": [
        {
          "output_type": "display_data",
          "data": {
            "text/plain": [
              "Drawing 10000 posterior samples:   0%|          | 0/10000 [00:00<?, ?it/s]"
            ],
            "application/vnd.jupyter.widget-view+json": {
              "version_major": 2,
              "version_minor": 0,
              "model_id": "554069cf0f1d48b3a6236f5314fd8288"
            }
          },
          "metadata": {}
        }
      ]
    },
    {
      "cell_type": "markdown",
      "source": [
        "### Make a plot"
      ],
      "metadata": {
        "id": "-1PvZYgKZKnt"
      }
    },
    {
      "cell_type": "code",
      "source": [
        "preds_new = scaler.inverse_transform(np.asarray(samples))\n",
        "params = [\"$\\Omega_m$\", \"$\\sigma_8$\"]\n",
        "\n",
        "\n",
        "c = ChainConsumer()\n",
        "c.add_chain(y_cosmo_train,parameters=params,name='Training set')\n",
        "c.add_chain(preds_new,parameters=params,name='NPE')\n",
        "\n",
        "# Configure plot\n",
        "c.configure(label_font_size=21,max_ticks=4,tick_font_size=15,\n",
        "            legend_kwargs={\"frameon\":True, \"fontsize\":30}, kde=True)\n",
        "\n",
        "fig = c.plotter.plot(figsize=(8.4,8.05), truth=y_cosmo_test[100])\n",
        "\n",
        "plt.show()"
      ],
      "metadata": {
        "colab": {
          "base_uri": "https://localhost:8080/",
          "height": 834
        },
        "id": "HxjYWoKGrkGQ",
        "outputId": "c5f1bc66-9cbf-4cd4-e75d-7e335bdaa3aa"
      },
      "execution_count": 28,
      "outputs": [
        {
          "output_type": "stream",
          "name": "stderr",
          "text": [
            "WARNING:chainconsumer:Parameter $\\sigma_8$ in chain NPE is not constrained\n"
          ]
        },
        {
          "output_type": "display_data",
          "data": {
            "text/plain": [
              "<Figure size 840x805 with 4 Axes>"
            ],
            "image/png": "[encoded data removed]"
          },
          "metadata": {}
        }
      ]
    },
    {
      "cell_type": "code",
      "source": [],
      "metadata": {
        "id": "GF2tF0oOrkIg"
      },
      "execution_count": null,
      "outputs": []
    },
    {
      "cell_type": "code",
      "source": [],
      "metadata": {
        "id": "eug8xn4grir8"
      },
      "execution_count": null,
      "outputs": []
    }
  ]
}