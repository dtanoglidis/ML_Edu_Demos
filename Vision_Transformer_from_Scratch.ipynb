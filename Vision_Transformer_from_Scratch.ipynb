{
  "cells": [
    {
      "cell_type": "markdown",
      "metadata": {
        "id": "2R81BRi0MkCE"
      },
      "source": [
        "## LSBG - Artifact classification using Vision Transformers\n",
        "\n",
        "In this notebook we implement **from scrtch** a **Vision Transformer** (ViT) for the problem of LSBG vs Artifact classification.\n",
        "\n",
        "We apply Transformer architecture with self-attention without convolutional layers. We closely follow the Keras implementation that can be found at https://keras.io/examples/vision/image_classification_with_vision_transformer/"
      ]
    },
    {
      "cell_type": "markdown",
      "metadata": {
        "id": "kstzAlzma7gb"
      },
      "source": [
        "Install Tensorflow addons"
      ]
    },
    {
      "cell_type": "code",
      "execution_count": 1,
      "metadata": {
        "id": "WC_EIiAVMn0s",
        "colab": {
          "base_uri": "https://localhost:8080/"
        },
        "outputId": "9ae047e7-b905-4830-d2c5-dcbf289997c8"
      },
      "outputs": [
        {
          "output_type": "stream",
          "name": "stdout",
          "text": [
            "Looking in indexes: https://pypi.org/simple, https://us-python.pkg.dev/colab-wheels/public/simple/\n",
            "Collecting tensorflow-addons\n",
            "  Downloading tensorflow_addons-0.18.0-cp37-cp37m-manylinux_2_17_x86_64.manylinux2014_x86_64.whl (1.1 MB)\n",
            "\u001b[K     |████████████████████████████████| 1.1 MB 32.6 MB/s \n",
            "\u001b[?25hRequirement already satisfied: typeguard>=2.7 in /usr/local/lib/python3.7/dist-packages (from tensorflow-addons) (2.7.1)\n",
            "Requirement already satisfied: packaging in /usr/local/lib/python3.7/dist-packages (from tensorflow-addons) (21.3)\n",
            "Requirement already satisfied: pyparsing!=3.0.5,>=2.0.2 in /usr/local/lib/python3.7/dist-packages (from packaging->tensorflow-addons) (3.0.9)\n",
            "Installing collected packages: tensorflow-addons\n",
            "Successfully installed tensorflow-addons-0.18.0\n"
          ]
        }
      ],
      "source": [
        "!pip install -U tensorflow-addons"
      ]
    },
    {
      "cell_type": "markdown",
      "metadata": {
        "id": "OD0slRUEb_pv"
      },
      "source": [
        "**Import basic packages**"
      ]
    },
    {
      "cell_type": "code",
      "execution_count": 2,
      "metadata": {
        "id": "GSwyN-ZMb_yo"
      },
      "outputs": [],
      "source": [
        "import numpy as np\n",
        "import tensorflow as tf\n",
        "from tensorflow import keras\n",
        "from tensorflow.keras import layers\n",
        "import tensorflow_addons as tfa"
      ]
    },
    {
      "cell_type": "code",
      "execution_count": 3,
      "metadata": {
        "id": "8F1adrd1Mn56"
      },
      "outputs": [],
      "source": [
        "# ==============================================\n",
        "# Matplotlib, seaborn and plot pretty \n",
        "import matplotlib.pyplot as plt\n",
        "import matplotlib.gridspec as gridspec\n",
        "import seaborn as sns\n",
        "%matplotlib inline\n",
        "from matplotlib import rcParams\n",
        "rcParams['font.family'] = 'serif'\n",
        "\n",
        "# Adjust rc parameters to make plots pretty\n",
        "def plot_pretty(dpi=200, fontsize=9):\n",
        "    \n",
        "\n",
        "    plt.rc(\"savefig\", dpi=dpi)       # dpi resolution of saved image files\n",
        "    plt.rc('text', usetex=False)      # use LaTeX to process labels\n",
        "    plt.rc('font', size=fontsize)    # fontsize\n",
        "    plt.rc('xtick', direction='in')  # make axes ticks point inward\n",
        "    plt.rc('ytick', direction='in')\n",
        "    plt.rc('xtick.major', pad=10) \n",
        "    plt.rc('xtick.minor', pad=5)\n",
        "    plt.rc('ytick.major', pad=10) \n",
        "    plt.rc('ytick.minor', pad=5)\n",
        "    plt.rc('lines', dotted_pattern = [0.5, 1.1]) # fix dotted lines\n",
        "\n",
        "    return\n",
        "\n",
        "plot_pretty()"
      ]
    },
    {
      "cell_type": "markdown",
      "metadata": {
        "id": "psdHEFLoMoDN"
      },
      "source": [
        "**Download and prepare the data**"
      ]
    },
    {
      "cell_type": "code",
      "execution_count": 4,
      "metadata": {
        "id": "DCUr3mpPMoVw"
      },
      "outputs": [],
      "source": [
        "num_classes = 2\n",
        "input_shape = (64, 64, 3)"
      ]
    },
    {
      "cell_type": "code",
      "execution_count": 5,
      "metadata": {
        "colab": {
          "base_uri": "https://localhost:8080/"
        },
        "id": "P50LboCsMoe1",
        "outputId": "69820416-754c-46b6-81a6-8312a011c063"
      },
      "outputs": [
        {
          "output_type": "stream",
          "name": "stdout",
          "text": [
            "Cloning into 'UPenn_DS_Hangout'...\n",
            "remote: Enumerating objects: 21, done.\u001b[K\n",
            "remote: Counting objects: 100% (9/9), done.\u001b[K\n",
            "remote: Compressing objects: 100% (8/8), done.\u001b[K\n",
            "remote: Total 21 (delta 3), reused 7 (delta 1), pack-reused 12\u001b[K\n",
            "Unpacking objects: 100% (21/21), done.\n",
            "Checking out files: 100% (7/7), done.\n"
          ]
        }
      ],
      "source": [
        "# Remove \n",
        "!rm -rf UPenn_DS_Hangout\n",
        "!git clone https://github.com/dtanoglidis/UPenn_DS_Hangout"
      ]
    },
    {
      "cell_type": "code",
      "execution_count": 6,
      "metadata": {
        "colab": {
          "base_uri": "https://localhost:8080/"
        },
        "id": "hHbIxP9qMoov",
        "outputId": "6606cb8a-29d7-452f-d549-d48952cfa59c"
      },
      "outputs": [
        {
          "output_type": "stream",
          "name": "stdout",
          "text": [
            "/content/UPenn_DS_Hangout\n"
          ]
        }
      ],
      "source": [
        "%cd UPenn_DS_Hangout"
      ]
    },
    {
      "cell_type": "code",
      "execution_count": 7,
      "metadata": {
        "id": "yHjoh--Rdfp9"
      },
      "outputs": [],
      "source": [
        "# Data\n",
        "# Note: I have split the data into different files, only because GitHub does not \n",
        "# allow to upload very large files at ones\n",
        "X_1 = np.load(\"X_data_1.npy\");X_2 = np.load(\"X_data_2.npy\");X_3 = np.load(\"X_data_3.npy\")\n",
        "X_4 = np.load(\"X_data_4.npy\");X_5 = np.load(\"X_data_5.npy\") \n",
        "\n",
        "X_data = np.concatenate((X_1,X_2,X_3,X_4,X_5))\n",
        "\n",
        "# Labels\n",
        "y_lab = np.load(\"y_labels.npy\")"
      ]
    },
    {
      "cell_type": "markdown",
      "metadata": {
        "id": "jSEywFxCdfsf"
      },
      "source": [
        "**Split into training/validation/test sets**"
      ]
    },
    {
      "cell_type": "code",
      "execution_count": 8,
      "metadata": {
        "id": "5EAGdwhudfxu"
      },
      "outputs": [],
      "source": [
        "# Data\n",
        "x_train = X_data[:4000]\n",
        "x_val = X_data[4000:4500]\n",
        "x_test = X_data[4500:]\n",
        "# Labels\n",
        "y_train = y_lab[:4000]\n",
        "y_val = y_lab[4000:4500]\n",
        "y_test = y_lab[4500:]"
      ]
    },
    {
      "cell_type": "markdown",
      "metadata": {
        "id": "zoh_pSGAe7yh"
      },
      "source": [
        "### Configure Hyperparameters"
      ]
    },
    {
      "cell_type": "code",
      "execution_count": 9,
      "metadata": {
        "id": "dTN2wLEge71I"
      },
      "outputs": [],
      "source": [
        "learning_rate = 0.001\n",
        "weight_decay = 0.0001\n",
        "batch_size = 256\n",
        "num_epochs = 100\n",
        "image_size = 72  # We'll resize input images to this size\n",
        "patch_size = 6  # Size of the patches to be extract from the input images\n",
        "num_patches = (image_size // patch_size) ** 2\n",
        "projection_dim = 64\n",
        "num_heads = 4\n",
        "transformer_units = [\n",
        "    projection_dim * 2,\n",
        "    projection_dim,\n",
        "]  # Size of the transformer layers\n",
        "transformer_layers = 8\n",
        "mlp_head_units = [2048, 1024]  # Size of the dense layers of the final classifier"
      ]
    },
    {
      "cell_type": "markdown",
      "metadata": {
        "id": "LpdyF30nj9nM"
      },
      "source": [
        "### Use data augmentation"
      ]
    },
    {
      "cell_type": "code",
      "execution_count": 10,
      "metadata": {
        "id": "ygK-fgJHj9wF"
      },
      "outputs": [],
      "source": [
        "data_augmentation = keras.Sequential(\n",
        "    [\n",
        "        layers.Normalization(),\n",
        "        layers.Resizing(image_size, image_size),\n",
        "        layers.RandomFlip(\"horizontal\"),\n",
        "        layers.RandomRotation(factor=0.02)\n",
        "    ],\n",
        "    name=\"data_augmentation\",\n",
        ")\n",
        "# Compute the mean and the variance of the training data for normalization.\n",
        "data_augmentation.layers[0].adapt(x_train)"
      ]
    },
    {
      "cell_type": "markdown",
      "metadata": {
        "id": "1zHSgPzpe77W"
      },
      "source": [
        "### Implement multilayer perceptron (MLP)"
      ]
    },
    {
      "cell_type": "code",
      "execution_count": 11,
      "metadata": {
        "id": "rpgF8V6Ie78i"
      },
      "outputs": [],
      "source": [
        "def mlp(x, hidden_units, dropout_rate):\n",
        "    for units in hidden_units:\n",
        "        x = layers.Dense(units, activation=tf.nn.gelu)(x)\n",
        "        x = layers.Dropout(dropout_rate)(x)\n",
        "    return x"
      ]
    },
    {
      "cell_type": "markdown",
      "metadata": {
        "id": "c_JoZ3yOfeOP"
      },
      "source": [
        "### Implement patch creation as a layer"
      ]
    },
    {
      "cell_type": "code",
      "execution_count": 12,
      "metadata": {
        "id": "CiB7kUtxfeQu"
      },
      "outputs": [],
      "source": [
        "class Patches(layers.Layer):\n",
        "    def __init__(self, patch_size):\n",
        "        super(Patches, self).__init__()\n",
        "        self.patch_size = patch_size\n",
        "\n",
        "    def call(self, images):\n",
        "        batch_size = tf.shape(images)[0]\n",
        "        patches = tf.image.extract_patches(\n",
        "            images=images,\n",
        "            sizes=[1, self.patch_size, self.patch_size, 1],\n",
        "            strides=[1, self.patch_size, self.patch_size, 1],\n",
        "            rates=[1, 1, 1, 1],\n",
        "            padding=\"VALID\",\n",
        "        )\n",
        "        patch_dims = patches.shape[-1]\n",
        "        patches = tf.reshape(patches, [batch_size, -1, patch_dims])\n",
        "        return patches"
      ]
    },
    {
      "cell_type": "markdown",
      "metadata": {
        "id": "Zi1t3gLefeTk"
      },
      "source": [
        "Let's display patches for a randomly selected image"
      ]
    },
    {
      "cell_type": "code",
      "execution_count": 13,
      "metadata": {
        "colab": {
          "base_uri": "https://localhost:8080/",
          "height": 766
        },
        "id": "yNx3FiS7df0O",
        "outputId": "43dc4ec6-82af-4929-c489-65c46620b101"
      },
      "outputs": [
        {
          "output_type": "stream",
          "name": "stdout",
          "text": [
            "Image size: 72 X 72\n",
            "Patch size: 6 X 6\n",
            "Patches per image: 144\n",
            "Elements per patch: 108\n"
          ]
        },
        {
          "output_type": "display_data",
          "data": {
            "text/plain": [
              "<Figure size 432x432 with 1 Axes>"
            ],
            "image/png": "[encoded data removed]"
          },
          "metadata": {
            "needs_background": "light"
          }
        },
        {
          "output_type": "display_data",
          "data": {
            "text/plain": [
              "<Figure size 432x432 with 144 Axes>"
            ],
            "image/png": "[encoded data removed]"
          },
          "metadata": {
            "needs_background": "light"
          }
        }
      ],
      "source": [
        "plt.figure(figsize=(6, 6))\n",
        "image = x_train[np.random.choice(range(x_train.shape[0]))]\n",
        "plt.imshow(image)\n",
        "plt.axis(\"off\")\n",
        "\n",
        "resized_image = tf.image.resize(\n",
        "    tf.convert_to_tensor([image]), size=(image_size, image_size)\n",
        ")\n",
        "patches = Patches(patch_size)(resized_image)\n",
        "print(f\"Image size: {image_size} X {image_size}\")\n",
        "print(f\"Patch size: {patch_size} X {patch_size}\")\n",
        "print(f\"Patches per image: {patches.shape[1]}\")\n",
        "print(f\"Elements per patch: {patches.shape[-1]}\")\n",
        "\n",
        "n = int(np.sqrt(patches.shape[1]))\n",
        "plt.figure(figsize=(6, 6))\n",
        "for i, patch in enumerate(patches[0]):\n",
        "    ax = plt.subplot(n, n, i + 1)\n",
        "    patch_img = tf.reshape(patch, (patch_size, patch_size, 3))\n",
        "    plt.imshow(patch_img.numpy())\n",
        "    plt.axis(\"off\")"
      ]
    },
    {
      "cell_type": "markdown",
      "metadata": {
        "id": "0YLk56DDgh1l"
      },
      "source": [
        "### Implement the patch encoding layer \n",
        "\n",
        "The PatchEncoder layer will linearly transform a patch by projecting it into a vector of size projection_dim. In addition, it adds a learnable position embedding to the projected vector.\n",
        "\n"
      ]
    },
    {
      "cell_type": "code",
      "execution_count": 14,
      "metadata": {
        "id": "yokN6d1_g28T"
      },
      "outputs": [],
      "source": [
        "class PatchEncoder(layers.Layer):\n",
        "    def __init__(self, num_patches, projection_dim):\n",
        "        super(PatchEncoder, self).__init__()\n",
        "        self.num_patches = num_patches\n",
        "        self.projection = layers.Dense(units=projection_dim)\n",
        "        self.position_embedding = layers.Embedding(\n",
        "            input_dim=num_patches, output_dim=projection_dim\n",
        "        )\n",
        "\n",
        "    def call(self, patch):\n",
        "        positions = tf.range(start=0, limit=self.num_patches, delta=1)\n",
        "        encoded = self.projection(patch) + self.position_embedding(positions)\n",
        "        return encoded"
      ]
    },
    {
      "cell_type": "markdown",
      "metadata": {
        "id": "nZjOhqz5g2-7"
      },
      "source": [
        "### Build the ViT model\n",
        "\n",
        "The ViT model consists of multiple Transformer blocks, which use the `layers.MultiHeadAttention` layer as a self-attention mechanism applied to the sequence of patches. The Transformer blocks produce a `[batch_size, num_patches, projection_dim]` tensor, which is processed via an classifier head with softmax to produce the final class probabilities output."
      ]
    },
    {
      "cell_type": "code",
      "execution_count": 39,
      "metadata": {
        "id": "9eTbRg3Eg3Df"
      },
      "outputs": [],
      "source": [
        "\n",
        "tf.keras.backend.clear_session()\n",
        "\n",
        "def create_vit_classifier():\n",
        "    inputs = layers.Input(shape=input_shape)\n",
        "    # Augment data.\n",
        "    augmented = data_augmentation(inputs)\n",
        "    # Create patches.\n",
        "    patches = Patches(patch_size)(augmented)\n",
        "    # Encode patches.\n",
        "    encoded_patches = PatchEncoder(num_patches, projection_dim)(patches)\n",
        "\n",
        "    # Create multiple layers of the Transformer block.\n",
        "    for _ in range(transformer_layers):\n",
        "        # Layer normalization 1.\n",
        "        x1 = layers.LayerNormalization(epsilon=1e-6)(encoded_patches)\n",
        "        # Create a multi-head attention layer.\n",
        "        attention_output = layers.MultiHeadAttention(\n",
        "            num_heads=num_heads, key_dim=projection_dim, dropout=0.1\n",
        "        )(x1, x1)\n",
        "        # Skip connection 1.\n",
        "        x2 = layers.Add()([attention_output, encoded_patches])\n",
        "        # Layer normalization 2.\n",
        "        x3 = layers.LayerNormalization(epsilon=1e-6)(x2)\n",
        "        # MLP.\n",
        "        x3 = mlp(x3, hidden_units=transformer_units, dropout_rate=0.1)\n",
        "        # Skip connection 2.\n",
        "        encoded_patches = layers.Add()([x3, x2])\n",
        "\n",
        "    # Create a [batch_size, projection_dim] tensor.\n",
        "    representation = layers.LayerNormalization(epsilon=1e-6)(encoded_patches)\n",
        "    representation = layers.Flatten()(representation)\n",
        "    representation = layers.Dropout(0.5)(representation)\n",
        "    # Add MLP.\n",
        "    features = mlp(representation, hidden_units=mlp_head_units, dropout_rate=0.5)\n",
        "    # Classify outputs.\n",
        "    logits = layers.Dense(1, activation='sigmoid')(features)\n",
        "\n",
        "    # Create the Keras model.\n",
        "    model = keras.Model(inputs=inputs, outputs=logits)\n",
        "    return model"
      ]
    },
    {
      "cell_type": "markdown",
      "metadata": {
        "id": "4v8MJ83Ag3Ob"
      },
      "source": [
        "### Compile and train the model"
      ]
    },
    {
      "cell_type": "code",
      "execution_count": 40,
      "metadata": {
        "id": "27v5SfvUioLb"
      },
      "outputs": [],
      "source": [
        "model = create_vit_classifier()"
      ]
    },
    {
      "cell_type": "code",
      "execution_count": 41,
      "metadata": {
        "id": "FASgRijHhzmg"
      },
      "outputs": [],
      "source": [
        "optimizer = tf.keras.optimizers.Adadelta(learning_rate=0.1)"
      ]
    },
    {
      "cell_type": "code",
      "execution_count": 42,
      "metadata": {
        "id": "ZeVI8rhnhzoc"
      },
      "outputs": [],
      "source": [
        " model.compile(\n",
        "        optimizer=optimizer,\n",
        "        loss= 'binary_crossentropy',\n",
        "        metrics=['accuracy'])"
      ]
    },
    {
      "cell_type": "code",
      "execution_count": 43,
      "metadata": {
        "colab": {
          "base_uri": "https://localhost:8080/"
        },
        "id": "QVdMqBMrhzrA",
        "outputId": "d57a67f9-d500-4e9e-a29c-925ad2256104"
      },
      "outputs": [
        {
          "output_type": "stream",
          "name": "stdout",
          "text": [
            "Epoch 1/50\n",
            "63/63 [==============================] - 18s 145ms/step - loss: 0.7576 - accuracy: 0.7358 - val_loss: 0.7332 - val_accuracy: 0.7840\n",
            "Epoch 2/50\n",
            "63/63 [==============================] - 8s 126ms/step - loss: 0.5292 - accuracy: 0.8015 - val_loss: 0.3928 - val_accuracy: 0.8420\n",
            "Epoch 3/50\n",
            "63/63 [==============================] - 8s 127ms/step - loss: 0.4594 - accuracy: 0.8210 - val_loss: 0.4120 - val_accuracy: 0.8440\n",
            "Epoch 4/50\n",
            "63/63 [==============================] - 8s 128ms/step - loss: 0.4230 - accuracy: 0.8360 - val_loss: 0.4697 - val_accuracy: 0.8220\n",
            "Epoch 5/50\n",
            "63/63 [==============================] - 8s 127ms/step - loss: 0.3909 - accuracy: 0.8460 - val_loss: 0.4625 - val_accuracy: 0.8260\n",
            "Epoch 6/50\n",
            "63/63 [==============================] - 8s 127ms/step - loss: 0.3686 - accuracy: 0.8558 - val_loss: 0.3370 - val_accuracy: 0.8640\n",
            "Epoch 7/50\n",
            "63/63 [==============================] - 8s 127ms/step - loss: 0.3496 - accuracy: 0.8600 - val_loss: 0.5414 - val_accuracy: 0.7840\n",
            "Epoch 8/50\n",
            "63/63 [==============================] - 8s 127ms/step - loss: 0.3315 - accuracy: 0.8690 - val_loss: 0.4109 - val_accuracy: 0.8360\n",
            "Epoch 9/50\n",
            "63/63 [==============================] - 8s 127ms/step - loss: 0.3106 - accuracy: 0.8758 - val_loss: 0.3021 - val_accuracy: 0.8760\n",
            "Epoch 10/50\n",
            "63/63 [==============================] - 8s 126ms/step - loss: 0.3230 - accuracy: 0.8730 - val_loss: 0.2822 - val_accuracy: 0.9100\n",
            "Epoch 11/50\n",
            "63/63 [==============================] - 8s 126ms/step - loss: 0.3092 - accuracy: 0.8785 - val_loss: 0.3212 - val_accuracy: 0.8700\n",
            "Epoch 12/50\n",
            "63/63 [==============================] - 8s 126ms/step - loss: 0.2933 - accuracy: 0.8845 - val_loss: 0.4142 - val_accuracy: 0.8360\n",
            "Epoch 13/50\n",
            "63/63 [==============================] - 8s 126ms/step - loss: 0.2961 - accuracy: 0.8903 - val_loss: 0.2729 - val_accuracy: 0.9080\n",
            "Epoch 14/50\n",
            "63/63 [==============================] - 8s 126ms/step - loss: 0.2786 - accuracy: 0.8928 - val_loss: 0.2785 - val_accuracy: 0.8880\n",
            "Epoch 15/50\n",
            "63/63 [==============================] - 8s 129ms/step - loss: 0.2888 - accuracy: 0.8863 - val_loss: 0.2827 - val_accuracy: 0.9060\n",
            "Epoch 16/50\n",
            "63/63 [==============================] - 8s 132ms/step - loss: 0.2917 - accuracy: 0.8907 - val_loss: 0.2963 - val_accuracy: 0.8780\n",
            "Epoch 17/50\n",
            "63/63 [==============================] - 8s 128ms/step - loss: 0.2705 - accuracy: 0.8992 - val_loss: 0.2679 - val_accuracy: 0.8920\n",
            "Epoch 18/50\n",
            "63/63 [==============================] - 8s 127ms/step - loss: 0.2643 - accuracy: 0.8997 - val_loss: 0.2812 - val_accuracy: 0.8880\n",
            "Epoch 19/50\n",
            "63/63 [==============================] - 8s 127ms/step - loss: 0.2662 - accuracy: 0.8960 - val_loss: 0.2770 - val_accuracy: 0.8940\n",
            "Epoch 20/50\n",
            "63/63 [==============================] - 8s 126ms/step - loss: 0.2538 - accuracy: 0.9043 - val_loss: 0.2699 - val_accuracy: 0.9060\n",
            "Epoch 21/50\n",
            "63/63 [==============================] - 8s 126ms/step - loss: 0.2545 - accuracy: 0.9055 - val_loss: 0.2853 - val_accuracy: 0.8900\n",
            "Epoch 22/50\n",
            "63/63 [==============================] - 8s 127ms/step - loss: 0.2573 - accuracy: 0.8992 - val_loss: 0.2590 - val_accuracy: 0.9020\n",
            "Epoch 23/50\n",
            "63/63 [==============================] - 8s 127ms/step - loss: 0.2581 - accuracy: 0.8995 - val_loss: 0.2867 - val_accuracy: 0.8760\n",
            "Epoch 24/50\n",
            "63/63 [==============================] - 8s 127ms/step - loss: 0.2556 - accuracy: 0.9010 - val_loss: 0.2628 - val_accuracy: 0.9060\n",
            "Epoch 25/50\n",
            "63/63 [==============================] - 8s 127ms/step - loss: 0.2535 - accuracy: 0.9030 - val_loss: 0.2817 - val_accuracy: 0.8780\n",
            "Epoch 26/50\n",
            "63/63 [==============================] - 8s 128ms/step - loss: 0.2398 - accuracy: 0.9043 - val_loss: 0.2709 - val_accuracy: 0.9160\n",
            "Epoch 27/50\n",
            "63/63 [==============================] - 8s 131ms/step - loss: 0.2396 - accuracy: 0.9070 - val_loss: 0.2989 - val_accuracy: 0.8680\n",
            "Epoch 28/50\n",
            "63/63 [==============================] - 8s 126ms/step - loss: 0.2427 - accuracy: 0.9087 - val_loss: 0.2763 - val_accuracy: 0.8800\n",
            "Epoch 29/50\n",
            "63/63 [==============================] - 8s 127ms/step - loss: 0.2391 - accuracy: 0.9060 - val_loss: 0.2721 - val_accuracy: 0.8900\n",
            "Epoch 30/50\n",
            "63/63 [==============================] - 8s 126ms/step - loss: 0.2407 - accuracy: 0.9097 - val_loss: 0.2721 - val_accuracy: 0.9060\n",
            "Epoch 31/50\n",
            "63/63 [==============================] - 8s 126ms/step - loss: 0.2379 - accuracy: 0.9065 - val_loss: 0.2653 - val_accuracy: 0.9100\n",
            "Epoch 32/50\n",
            "63/63 [==============================] - 8s 126ms/step - loss: 0.2309 - accuracy: 0.9125 - val_loss: 0.2602 - val_accuracy: 0.9060\n",
            "Epoch 33/50\n",
            "63/63 [==============================] - 8s 126ms/step - loss: 0.2250 - accuracy: 0.9158 - val_loss: 0.2963 - val_accuracy: 0.8980\n",
            "Epoch 34/50\n",
            "63/63 [==============================] - 8s 126ms/step - loss: 0.2390 - accuracy: 0.9085 - val_loss: 0.2566 - val_accuracy: 0.9120\n",
            "Epoch 35/50\n",
            "63/63 [==============================] - 8s 127ms/step - loss: 0.2275 - accuracy: 0.9105 - val_loss: 0.2505 - val_accuracy: 0.9180\n",
            "Epoch 36/50\n",
            "63/63 [==============================] - 8s 126ms/step - loss: 0.2184 - accuracy: 0.9172 - val_loss: 0.2499 - val_accuracy: 0.8980\n",
            "Epoch 37/50\n",
            "63/63 [==============================] - 8s 126ms/step - loss: 0.2256 - accuracy: 0.9135 - val_loss: 0.2628 - val_accuracy: 0.8960\n",
            "Epoch 38/50\n",
            "63/63 [==============================] - 8s 126ms/step - loss: 0.2227 - accuracy: 0.9160 - val_loss: 0.2494 - val_accuracy: 0.9120\n",
            "Epoch 39/50\n",
            "63/63 [==============================] - 8s 126ms/step - loss: 0.2208 - accuracy: 0.9178 - val_loss: 0.2548 - val_accuracy: 0.9060\n",
            "Epoch 40/50\n",
            "63/63 [==============================] - 8s 126ms/step - loss: 0.2247 - accuracy: 0.9178 - val_loss: 0.2555 - val_accuracy: 0.9120\n",
            "Epoch 41/50\n",
            "63/63 [==============================] - 8s 127ms/step - loss: 0.2161 - accuracy: 0.9118 - val_loss: 0.2600 - val_accuracy: 0.9120\n",
            "Epoch 42/50\n",
            "63/63 [==============================] - 8s 126ms/step - loss: 0.2158 - accuracy: 0.9240 - val_loss: 0.2566 - val_accuracy: 0.9120\n",
            "Epoch 43/50\n",
            "63/63 [==============================] - 8s 127ms/step - loss: 0.2201 - accuracy: 0.9180 - val_loss: 0.2645 - val_accuracy: 0.8880\n",
            "Epoch 44/50\n",
            "63/63 [==============================] - 8s 127ms/step - loss: 0.2058 - accuracy: 0.9200 - val_loss: 0.2551 - val_accuracy: 0.8980\n",
            "Epoch 45/50\n",
            "63/63 [==============================] - 8s 127ms/step - loss: 0.2183 - accuracy: 0.9162 - val_loss: 0.2674 - val_accuracy: 0.8980\n",
            "Epoch 46/50\n",
            "63/63 [==============================] - 8s 126ms/step - loss: 0.2092 - accuracy: 0.9180 - val_loss: 0.2631 - val_accuracy: 0.9120\n",
            "Epoch 47/50\n",
            "63/63 [==============================] - 8s 126ms/step - loss: 0.2036 - accuracy: 0.9215 - val_loss: 0.2589 - val_accuracy: 0.9120\n",
            "Epoch 48/50\n",
            "63/63 [==============================] - 8s 126ms/step - loss: 0.2088 - accuracy: 0.9240 - val_loss: 0.2614 - val_accuracy: 0.9040\n",
            "Epoch 49/50\n",
            "63/63 [==============================] - 8s 127ms/step - loss: 0.2111 - accuracy: 0.9200 - val_loss: 0.2499 - val_accuracy: 0.9080\n",
            "Epoch 50/50\n",
            "63/63 [==============================] - 8s 126ms/step - loss: 0.2130 - accuracy: 0.9210 - val_loss: 0.2606 - val_accuracy: 0.8960\n"
          ]
        },
        {
          "output_type": "execute_result",
          "data": {
            "text/plain": [
              "<keras.callbacks.History at 0x7f01645bbe10>"
            ]
          },
          "metadata": {},
          "execution_count": 43
        }
      ],
      "source": [
        "n_epochs = 50\n",
        "model.fit(x=x_train, y=y_train,\n",
        "          epochs=n_epochs, batch_size=64,\n",
        "          shuffle=True,\n",
        "          validation_data=(x_val,y_val))"
      ]
    },
    {
      "cell_type": "markdown",
      "source": [
        "### Make predictions and evaluate"
      ],
      "metadata": {
        "id": "A7L-m2CLjYFk"
      }
    },
    {
      "cell_type": "code",
      "source": [
        "Epochs = np.arange(1,n_epochs+1,1)\n",
        "history_dict = model.history.history\n",
        "\n",
        "train_acc = history_dict['accuracy']\n",
        "val_acc = history_dict['val_accuracy']\n",
        "train_loss = history_dict['loss']\n",
        "val_loss = history_dict['val_loss']\n",
        "train_err = 1.0 - np.asarray(train_acc)\n",
        "val_err = 1.0 - np.asarray(val_acc)\n",
        "\n",
        "# =====================================================================\n",
        "# =====================================================================\n",
        "plt.figure(figsize=(7.2, 6.0))\n",
        "\n",
        "# Plot Accuracy\n",
        "plt.plot(Epochs, train_acc, c = 'darkred',linewidth=2.5,label='Training accuracy')\n",
        "plt.plot(Epochs, val_acc , c = 'darkorange',linewidth=2.5,label='Validation accuracy')\n",
        "# Plot Loss\n",
        "#plt.plot(Epochs, train_loss, c = 'mediumblue',linewidth=2.5,label='Training loss')\n",
        "#plt.plot(Epochs, val_loss , c = 'dodgerblue',linewidth=2.5,label='Validation loss')\n",
        "\n",
        "# =====================================================================\n",
        "plt.grid(ls='--',alpha=0.6)\n",
        "plt.xlabel('Epochs', fontsize=16);plt.ylabel('Accuracy',fontsize=20)\n",
        "plt.xlim(1,n_epochs)\n",
        "#plt.ylim(0.2,1)\n",
        "plt.legend(frameon=True, loc='center right', fontsize=17)\n",
        "plt.tick_params(axis='both', labelsize=14.5)\n",
        "\n",
        "\n",
        "#plt.xlim(10,);plt.ylim(0,2)\n",
        "plt.tight_layout()\n",
        "plt.show()\n"
      ],
      "metadata": {
        "colab": {
          "base_uri": "https://localhost:8080/",
          "height": 443
        },
        "id": "VJshhNj3FuJN",
        "outputId": "cb11e263-ed73-48e9-95b2-6bc85d648afd"
      },
      "execution_count": 44,
      "outputs": [
        {
          "output_type": "display_data",
          "data": {
            "text/plain": [
              "<Figure size 518.4x432 with 1 Axes>"
            ],
            "image/png": "[encoded data removed]"
          },
          "metadata": {
            "needs_background": "light"
          }
        }
      ]
    },
    {
      "cell_type": "code",
      "source": [
        "# Metrics\n",
        "from sklearn.metrics import accuracy_score \n",
        "from sklearn.metrics import precision_score\n",
        "from sklearn.metrics import recall_score\n",
        "from sklearn.metrics import confusion_matrix"
      ],
      "metadata": {
        "id": "RlPdjZT88JdU"
      },
      "execution_count": 45,
      "outputs": []
    },
    {
      "cell_type": "code",
      "execution_count": 46,
      "metadata": {
        "id": "CL3dfvW6hzua",
        "colab": {
          "base_uri": "https://localhost:8080/"
        },
        "outputId": "926be3ee-2bc4-4c0f-f9e2-93dcb10b0e5a"
      },
      "outputs": [
        {
          "output_type": "stream",
          "name": "stdout",
          "text": [
            "16/16 [==============================] - 1s 25ms/step\n"
          ]
        }
      ],
      "source": [
        "# Predict on test data \n",
        "scores = model.predict(x_test)\n",
        "\n",
        "# What if we change that?\n",
        "y_pred_ViT =  (scores > 0.5).astype(\"int32\")[:,0]"
      ]
    },
    {
      "cell_type": "code",
      "source": [
        "print(scores[0:10])"
      ],
      "metadata": {
        "colab": {
          "base_uri": "https://localhost:8080/"
        },
        "id": "zuP0BzsT8sPU",
        "outputId": "3f07153c-7626-4302-f4e9-cfaadea67253"
      },
      "execution_count": 48,
      "outputs": [
        {
          "output_type": "stream",
          "name": "stdout",
          "text": [
            "[[0.0636828 ]\n",
            " [0.9606801 ]\n",
            " [0.95953435]\n",
            " [0.917676  ]\n",
            " [0.08573611]\n",
            " [0.9661397 ]\n",
            " [0.84384304]\n",
            " [0.89326096]\n",
            " [0.00959872]\n",
            " [0.9253352 ]]\n"
          ]
        }
      ]
    },
    {
      "cell_type": "code",
      "source": [
        "# Get the confusion matrix for the Deep Learning\n",
        "con_mat_DL = confusion_matrix(y_test, y_pred_ViT)\n",
        "\n",
        "# Get annotations and normalized confusion matrix\n",
        "a = con_mat_DL[0]/np.sum(con_mat_DL[0])\n",
        "b = con_mat_DL[1]/np.sum(con_mat_DL[1])\n",
        "\n",
        "\n",
        "con_mat_normalized = np.zeros([2,2])\n",
        "con_mat_normalized[0] = a\n",
        "con_mat_normalized[1] = b\n",
        "\n",
        "# Annotations\n",
        "an_1 = \"(\"+\"{:.2f}\".format(a[0])+\")\"\n",
        "an_2 = \"(\"+\"{:.2f}\".format(a[1])+\")\"\n",
        "an_3 = \"(\"+\"{:.2f}\".format(b[0])+\")\"\n",
        "an_4 = \"(\"+\"{:.2f}\".format(b[1])+\")\"\n",
        "\n",
        "annots = np.zeros([2,2],dtype='U6')\n",
        "\n",
        "annots[0,0] = an_1;annots[0,1] = an_2\n",
        "annots[1,0] = an_3;annots[1,1] = an_4\n",
        "\n",
        "class_names = ['Artifact','LSBG']\n",
        "# ==============================================\n",
        "# ==============================================\n",
        "\n",
        "\n",
        "plt.figure(figsize = (7,6.0))\n",
        "g =sns.heatmap(con_mat_DL.T, square = True, annot=True,annot_kws={'va':'bottom',\"size\": 19},fmt='.0f', cmap='Blues', cbar=False, \n",
        "           xticklabels= class_names,\n",
        "           yticklabels= class_names)\n",
        "sns.heatmap(con_mat_normalized.T, square=True, annot=annots.T, annot_kws={'va':'top',\"size\": 17},cmap='Blues',fmt='', cbar=True,\n",
        "            cbar_kws={'shrink':0.94})\n",
        "g.set_xticklabels(class_names, fontsize = 17)\n",
        "g.set_yticklabels(class_names, fontsize = 17)\n",
        "\n",
        "# Ticks for colorbar\n",
        "cax = plt.gcf().axes[-1]\n",
        "cax.tick_params(labelsize=15)\n",
        "# =========================================\n",
        "# =========================================\n",
        "plt.xlabel('True label',fontsize=18)\n",
        "plt.ylabel('Predicted label',fontsize=18)\n",
        "plt.show()"
      ],
      "metadata": {
        "colab": {
          "base_uri": "https://localhost:8080/",
          "height": 392
        },
        "id": "z9IT1wDo7sWk",
        "outputId": "64e66032-dd5d-45ff-b9e4-6a0f58f6ecd8"
      },
      "execution_count": 49,
      "outputs": [
        {
          "output_type": "display_data",
          "data": {
            "text/plain": [
              "<Figure size 504x432 with 2 Axes>"
            ],
            "image/png": "[encoded data removed]"
          },
          "metadata": {
            "needs_background": "light"
          }
        }
      ]
    },
    {
      "cell_type": "code",
      "source": [
        "print(accuracy_score(y_test,y_pred_ViT))\n",
        "print(precision_score(y_test,y_pred_ViT))\n",
        "print(recall_score(y_test,y_pred_ViT))"
      ],
      "metadata": {
        "colab": {
          "base_uri": "https://localhost:8080/"
        },
        "id": "3QOezkOJ8ck9",
        "outputId": "48f03e99-8eca-48cc-aca1-1bdf7ba6b9fc"
      },
      "execution_count": 51,
      "outputs": [
        {
          "output_type": "stream",
          "name": "stdout",
          "text": [
            "0.87\n",
            "0.8052805280528053\n",
            "0.976\n"
          ]
        }
      ]
    },
    {
      "cell_type": "code",
      "source": [],
      "metadata": {
        "id": "sWp59wiFHHKb"
      },
      "execution_count": null,
      "outputs": []
    },
    {
      "cell_type": "code",
      "source": [],
      "metadata": {
        "id": "74IDfKipHHV0"
      },
      "execution_count": null,
      "outputs": []
    }
  ],
  "metadata": {
    "accelerator": "GPU",
    "colab": {
      "collapsed_sections": [],
      "machine_shape": "hm",
      "provenance": []
    },
    "gpuClass": "standard",
    "kernelspec": {
      "display_name": "Python 3",
      "name": "python3"
    },
    "language_info": {
      "name": "python"
    }
  },
  "nbformat": 4,
  "nbformat_minor": 0
}