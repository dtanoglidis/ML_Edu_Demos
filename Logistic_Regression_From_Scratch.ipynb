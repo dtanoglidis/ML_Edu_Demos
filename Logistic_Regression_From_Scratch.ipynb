{
 "cells": [
  {
   "cell_type": "markdown",
   "metadata": {
    "id": "OOLdlrBWpCKL"
   },
   "source": [
    "# Logistic Regression from Scratch: An Immersion to Machine Learning Concepts\n",
    "\n",
    "**Dimitrios Tanoglidis**\n",
    "\n",
    "This is the first of a series of notebooks on basic Machine Learning algorithms, written (when relatively easy) from scratch. That means that I will try to avoid using the [scikit-learn](https://scikit-learn.org/stable/) library, at least not before writing my own functions first. \n",
    "\n",
    "The reason for writing these notebooks is the same as the reason one teaches a class: to learn the material themselves. That being said, I hope that other people will find them useful, too. \n",
    "\n",
    "\n",
    "The first algorithm I am going to present is the logistic regression classifier (yes, although it has the name \"regression\", it is a classifier). The reason for selecting LR as the first classifier to present is that:\n",
    "\n",
    "- a) It is intuitive \n",
    "\n",
    "- b) Often works \"just fine\" for practical applications (useful skill for industry-oriented people) \n",
    "\n",
    "-  c) Can be easily coded from scratch\n",
    "\n",
    "-  d) It is (usually) the last layer of a deep neural network\n",
    "\n",
    "- e) Allow us to introduce concepts such as regularization, and selection of hyperparameters\n",
    "\n",
    "- f) Allow us to nicely introduce and hard-code the loss function and its optimization methods \n",
    "\n",
    "- g) and many more!!!\n",
    "\n",
    "\n",
    "\n",
    "\n",
    "Before discussing the model, let's import all the necessary packages we are going to need.\n",
    "\n",
    "\n"
   ]
  },
  {
   "cell_type": "code",
   "execution_count": 3,
   "metadata": {
    "id": "02cBb8RDpHfh"
   },
   "outputs": [],
   "source": [
    "# Basic packages and plotting\n",
    "import numpy as np \n",
    "import scipy.io as sio\n",
    "import matplotlib.pyplot as plt\n",
    "%matplotlib inline\n",
    "from matplotlib import rcParams\n",
    "import pandas as pd\n",
    "#import seaborn as sns\n",
    "rcParams['font.family'] = 'serif'\n",
    "\n",
    "# Adjust rc parameters to make plots pretty\n",
    "def plot_pretty(dpi=200, fontsize=9):\n",
    "    \n",
    "    import matplotlib.pyplot as plt\n",
    "\n",
    "    plt.rc(\"savefig\", dpi=dpi)       # dpi resolution of saved image files\n",
    "    plt.rc('text', usetex=True)      # use LaTeX to process labels\n",
    "    plt.rc('font', size=fontsize)    # fontsize\n",
    "    plt.rc('xtick', direction='in')  # make axes ticks point inward\n",
    "    plt.rc('ytick', direction='in')\n",
    "    plt.rc('xtick.major', pad=10) \n",
    "    plt.rc('xtick.minor', pad=5)\n",
    "    plt.rc('ytick.major', pad=10) \n",
    "    plt.rc('ytick.minor', pad=5)\n",
    "    plt.rc('lines', dotted_pattern = [0.5, 1.1]) # fix dotted lines\n",
    "\n",
    "    return\n",
    "\n",
    "plot_pretty()\n",
    "\n",
    "\n",
    "# =============================================\n",
    "# Scikit-learn etc\n",
    "from sklearn.metrics import accuracy_score\n",
    "from sklearn.metrics import precision_score\n",
    "from sklearn.metrics import recall_score\n",
    "from sklearn.metrics import confusion_matrix"
   ]
  },
  {
   "cell_type": "markdown",
   "metadata": {
    "id": "JOtLiKwm1Z5M"
   },
   "source": [
    "If you run this notebook on Colab, uncomment and run the following cell"
   ]
  },
  {
   "cell_type": "code",
   "execution_count": 4,
   "metadata": {
    "id": "325e9lO31Xrq"
   },
   "outputs": [],
   "source": [
    "#! sudo apt-get install texlive-latex-recommended \n",
    "#! sudo apt install texlive-latex-extra\n",
    "#! sudo apt install dvipng\n",
    "#!apt install cm-super"
   ]
  },
  {
   "cell_type": "markdown",
   "metadata": {
    "id": "B1Mvy0TvpHir"
   },
   "source": [
    "## Logistic Regression for binary classification\n",
    "\n",
    "LR is a **supervised** machine learning classifier. We will consider a binary classification problem. Assume that we have $m$ training pairs $(\\mathbf{x}^{(i)},y^{(i)})$, where $\\mathbf{x}^{(i)} = [x_1^{(i)},x_1^{(i)},\\dots,x_n^{(i)}]$ a feature vector and the labels $y^{(i)} \\in \\{0,1\\}$, the probability to get $y=1$ is modeled as:\n",
    "\n",
    "\n",
    "\\begin{equation}\\boxed{\n",
    "p(y=1|\\mathbf{x};\\mathbf{w}) = \\frac{1}{1+e^{-\\mathbf{w}^T\\mathbf{x}}},}\n",
    "\\end{equation}\n",
    "\n",
    "where $\\mathbf{w}^T\\mathbf{x} = \\sum_{i=0}^n w_i x_i = w_0 + w_1 x_1 + \\dots + w_n x_n $.\n",
    "\n",
    "The parameters $w$ are **weights to be learned**. Specifically the paramter $w_0$ is called **bias**.\n",
    "\n",
    "The property that makes the logistic function (also known as **sigmoid**) $\\sigma(z) = 1/(1+e^{-z})$ useful is that it can take number (here $\\mathbf{w}^T\\mathbf{x}$) and map it to the interval $(0,1)$, thus making it easy to be interpreted as probability.\n",
    "\n",
    "Let's plot the logistic function in a range of $z$ values:\n"
   ]
  },
  {
   "cell_type": "code",
   "execution_count": 5,
   "metadata": {
    "colab": {
     "base_uri": "https://localhost:8080/",
     "height": 522
    },
    "id": "3ebXro2ypHkX",
    "outputId": "89d29b59-2859-45f2-f504-36c65ee00443"
   },
   "outputs": [
    {
     "data": {
      "image/png": "[encoded data removed]",
      "text/plain": [
       "<Figure size 576x576 with 1 Axes>"
      ]
     },
     "metadata": {
      "needs_background": "light"
     },
     "output_type": "display_data"
    }
   ],
   "source": [
    "def logist(z):\n",
    "    g = 1. + np.exp(-z)\n",
    "    return 1./g\n",
    "\n",
    "\n",
    "z = np.linspace(-10,10,100)\n",
    "logist_z = logist(z)\n",
    "\n",
    "\n",
    "plt.figure(figsize = (8.0,8.0))\n",
    "plt.plot(z,logist_z,c='mediumblue',linewidth=2.5)\n",
    "plt.grid(ls='--',alpha=0.7)\n",
    "plt.title('Logistic or Sigmoid function', fontsize=15)\n",
    "plt.xlabel('$z$',fontsize=20)\n",
    "plt.ylabel('$\\sigma(z)$', fontsize=20)\n",
    "\n",
    "plt.show()\n"
   ]
  },
  {
   "cell_type": "markdown",
   "metadata": {
    "id": "MvHBtPKYpHnK"
   },
   "source": [
    "### Learning the weights: An introduction to the loss function and the gradient descent\n",
    "\n",
    "#### The loss function\n",
    "\n",
    "If we find optimal weights, $w$, then the predicted label of a single observation, $\\hat{y}$, will be:\n",
    "\n",
    "\n",
    "\\begin{equation}\n",
    "\\hat{y} = \\begin{cases} \n",
    "1, & \\mbox{if}\\,\\, \\sigma(\\mathbf{w^Tx}) \\geq 0.5 \\\\ \n",
    "0, & \\mbox{otherwise}\n",
    "\\end{cases}\n",
    "\\end{equation}\n",
    "\n",
    "How are we going to find the weights? \n",
    "\n",
    "Since we are dealing with a binary problem, labels $Y \\in \\{0,1\\}$ the probability to get label $y$ when we have an observation $\\mathbf{x}$ is given by the **Bernoulli distribution**:\n",
    "\n",
    "\n",
    "\\begin{equation}\n",
    "p(y|\\mathbf{x};\\mathbf{w}) \\\\= p(y=1|\\mathbf{x};\\mathbf{w})^y (1- p(y=1|\\mathbf{x};\\mathbf{w}))^{(1-y)}  \\\\=\\sigma(\\mathbf{w^Tx})^y (1 - \\sigma(\\mathbf{w^Tx}))^{(1-y)}\n",
    "\\end{equation}\n",
    "\n",
    "Assuming that the $m$ training samples are independent, we can write down a **likelihood** of parameters given observations, whose **maximization** will yield the best set  of parameters:\n",
    "\n",
    "\\begin{equation}\n",
    "L(\\mathbf{w}|\\mathbf{x},\\mathbf{y}) = \\prod_{i=1}^m p(y^{(i)}|\\mathbf{x}^{(i)};\\mathbf{w}) \\\\ = \\prod_{i=1}^m \\sigma(\\mathbf{w^Tx}^{(i)})^{y^{(i)}} (1 - \\sigma(\\mathbf{w^Tx}^{(i)}))^{(1-y^{(i)})}\n",
    "\\end{equation}\n",
    "\n",
    "Now to form the **loss function** (something to be **minimized**) we will get the *negative* of the the log of the above likelihood (the logarithm is for computational ease):\n",
    "\n",
    "\\begin{equation}\n",
    "\\boxed{\n",
    "J(\\mathbf{w}) = - \\frac{1}{m}\\sum_{i=1}^m y^{(i)}\\log \\sigma(\\mathbf{w^Tx}^{(i)}) + (1-y^{(i)})\\log (1 - \\sigma(\\mathbf{w^Tx}^{(i)}))}\n",
    "\\end{equation}\n",
    "\n",
    "\n",
    "This is also known as the **binary cross-entropy** loss function (note that we have averaged over all samples). \n",
    "\n",
    "(For the name cross-entropy check the relevant [wikipedia article](https://en.wikipedia.org/wiki/Cross_entropy#Cross-entropy_loss_function_and_logistic_regression))\n",
    "\n",
    "\n",
    "\n",
    "Let's write a function that implements gradient descent for logistic regression and apply it to the problem of star-galaxy separation from SDSS data\n"
   ]
  },
  {
   "cell_type": "markdown",
   "metadata": {
    "id": "T00U2WfHRypF"
   },
   "source": [
    "#### Gradient descent\n",
    "\n",
    "It is not possible to get an expression for the parameters that minimize $J(\\mathbf{w})$ in a closed form. \n",
    "\n",
    "For that readon we will use the **gradient descent** algorithm, which is an iterative process to update the weights:\n",
    "\n",
    "\\begin{equation}\n",
    "\\boxed{\n",
    "\\mathbf{w} \\leftarrow \\mathbf{w} - \\eta \\nabla_\\mathbf{w} J(\\mathbf{w})}\n",
    "\\end{equation}\n",
    "\n",
    "(till convergence or for a fixed number of steps). The (hyper)parameter $\\eta$ is knows as the **learning rate**, and dictates how much the weights are being updated in each iteration of the algorithm. \n",
    "\n",
    "The intuition behind this is that we are moving towards the region that the function $J$ changes more rapidly each time.\n",
    "\n",
    "The above equation can be also written in terms of the components of the weights vector as:\n",
    "\n",
    "\\begin{equation}\n",
    "w_j \\leftarrow w_j - \\eta \\frac{\\partial J}{\\partial w_j}, \\quad j=0, \\dots, n\n",
    "\\end{equation}\n",
    "\n",
    "$n$ being the number of features (remember $w_0$ is the bias factor).\n",
    "\n",
    "\n",
    "For the case of the logistic loss function, one can show that (see appendix):\n",
    "\n",
    "\\begin{equation}\n",
    "\\frac{\\partial J}{\\partial w_j} = \\frac{1}{m}\\sum_{i=1}^m \\left[ \\sigma(\\mathbf{w^Tx}^{(i)}) - y^{(i)}\\right]x_j^{(i)}\n",
    "\\end{equation}\n",
    "\n",
    "with $x_j^{(i)}$ the $j$-th component of the feature vector of the $i$-th example, and $x_0^{(i)} = 1$.\n",
    "\n",
    "Summarizing, we can **learn** the optimal weights, given a training set $(x^{(i)},y^{(i)})$ of size $m$, in an iterative way, as:\n",
    "\n",
    "\n",
    "\\begin{equation}\n",
    "\\boxed{\n",
    "w_j \\leftarrow w_j - \\eta \\frac{1}{m}\\sum_{i=1}^m \\left[ \\sigma(\\mathbf{w^Tx}^{(i)}) - y^{(i)}\\right]x_j^{(i)}}\n",
    "\\end{equation}\n"
   ]
  },
  {
   "cell_type": "markdown",
   "metadata": {
    "id": "qZeLeHin4yLl"
   },
   "source": [
    "A catalog of SDSS instances"
   ]
  },
  {
   "cell_type": "code",
   "execution_count": 6,
   "metadata": {
    "id": "ZM0FGdzn4yWO"
   },
   "outputs": [
    {
     "data": {
      "text/html": [
       "<div>\n",
       "<style scoped>\n",
       "    .dataframe tbody tr th:only-of-type {\n",
       "        vertical-align: middle;\n",
       "    }\n",
       "\n",
       "    .dataframe tbody tr th {\n",
       "        vertical-align: top;\n",
       "    }\n",
       "\n",
       "    .dataframe thead th {\n",
       "        text-align: right;\n",
       "    }\n",
       "</style>\n",
       "<table border=\"1\" class=\"dataframe\">\n",
       "  <thead>\n",
       "    <tr style=\"text-align: right;\">\n",
       "      <th></th>\n",
       "      <th>objid</th>\n",
       "      <th>ra</th>\n",
       "      <th>dec</th>\n",
       "      <th>u</th>\n",
       "      <th>g</th>\n",
       "      <th>r</th>\n",
       "      <th>i</th>\n",
       "      <th>z</th>\n",
       "      <th>specobjid</th>\n",
       "      <th>class</th>\n",
       "      <th>redshift</th>\n",
       "    </tr>\n",
       "  </thead>\n",
       "  <tbody>\n",
       "    <tr>\n",
       "      <th>0</th>\n",
       "      <td>1237646798137787517</td>\n",
       "      <td>121.802126</td>\n",
       "      <td>0.855476</td>\n",
       "      <td>25.02634</td>\n",
       "      <td>21.90814</td>\n",
       "      <td>20.17926</td>\n",
       "      <td>19.22341</td>\n",
       "      <td>18.68446</td>\n",
       "      <td>5342652717419438080</td>\n",
       "      <td>GALAXY</td>\n",
       "      <td>0.504717</td>\n",
       "    </tr>\n",
       "    <tr>\n",
       "      <th>1</th>\n",
       "      <td>1237646798137787833</td>\n",
       "      <td>121.748271</td>\n",
       "      <td>0.891010</td>\n",
       "      <td>23.74677</td>\n",
       "      <td>22.75365</td>\n",
       "      <td>21.10284</td>\n",
       "      <td>20.06169</td>\n",
       "      <td>19.50690</td>\n",
       "      <td>5342652167663624192</td>\n",
       "      <td>GALAXY</td>\n",
       "      <td>0.579273</td>\n",
       "    </tr>\n",
       "    <tr>\n",
       "      <th>2</th>\n",
       "      <td>1237646798137788079</td>\n",
       "      <td>121.708487</td>\n",
       "      <td>0.874751</td>\n",
       "      <td>23.15607</td>\n",
       "      <td>22.95075</td>\n",
       "      <td>20.89328</td>\n",
       "      <td>19.71096</td>\n",
       "      <td>19.10471</td>\n",
       "      <td>5342651617907810304</td>\n",
       "      <td>GALAXY</td>\n",
       "      <td>0.772647</td>\n",
       "    </tr>\n",
       "    <tr>\n",
       "      <th>3</th>\n",
       "      <td>1237646798137852371</td>\n",
       "      <td>121.820752</td>\n",
       "      <td>0.931990</td>\n",
       "      <td>19.37035</td>\n",
       "      <td>17.34262</td>\n",
       "      <td>16.35286</td>\n",
       "      <td>15.92400</td>\n",
       "      <td>15.58903</td>\n",
       "      <td>5342663162779901952</td>\n",
       "      <td>GALAXY</td>\n",
       "      <td>0.101993</td>\n",
       "    </tr>\n",
       "    <tr>\n",
       "      <th>4</th>\n",
       "      <td>1237646798137852646</td>\n",
       "      <td>121.910430</td>\n",
       "      <td>0.896389</td>\n",
       "      <td>23.42736</td>\n",
       "      <td>22.81119</td>\n",
       "      <td>20.27570</td>\n",
       "      <td>19.14886</td>\n",
       "      <td>18.67588</td>\n",
       "      <td>5342662613024088064</td>\n",
       "      <td>GALAXY</td>\n",
       "      <td>0.585733</td>\n",
       "    </tr>\n",
       "  </tbody>\n",
       "</table>\n",
       "</div>"
      ],
      "text/plain": [
       "                 objid          ra       dec         u         g         r  \\\n",
       "0  1237646798137787517  121.802126  0.855476  25.02634  21.90814  20.17926   \n",
       "1  1237646798137787833  121.748271  0.891010  23.74677  22.75365  21.10284   \n",
       "2  1237646798137788079  121.708487  0.874751  23.15607  22.95075  20.89328   \n",
       "3  1237646798137852371  121.820752  0.931990  19.37035  17.34262  16.35286   \n",
       "4  1237646798137852646  121.910430  0.896389  23.42736  22.81119  20.27570   \n",
       "\n",
       "          i         z            specobjid   class  redshift  \n",
       "0  19.22341  18.68446  5342652717419438080  GALAXY  0.504717  \n",
       "1  20.06169  19.50690  5342652167663624192  GALAXY  0.579273  \n",
       "2  19.71096  19.10471  5342651617907810304  GALAXY  0.772647  \n",
       "3  15.92400  15.58903  5342663162779901952  GALAXY  0.101993  \n",
       "4  19.14886  18.67588  5342662613024088064  GALAXY  0.585733  "
      ]
     },
     "execution_count": 6,
     "metadata": {},
     "output_type": "execute_result"
    }
   ],
   "source": [
    "# Import the data\n",
    "SDSS_table = pd.read_csv(\"SDSS_file.csv\")\n",
    "SDSS_table.head()"
   ]
  },
  {
   "cell_type": "code",
   "execution_count": 7,
   "metadata": {},
   "outputs": [],
   "source": [
    "# Get the redshift\n",
    "redshift = SDSS_table[\"redshift\"]\n",
    "# Get the magnitudes\n",
    "u = SDSS_table[\"u\"];g = SDSS_table[\"g\"];r = SDSS_table[\"r\"];i = SDSS_table[\"i\"];z =SDSS_table[\"z\"]\n",
    "class_obs = SDSS_table[\"class\"]\n",
    "\n",
    "class_label = np.zeros(len(class_obs))"
   ]
  },
  {
   "cell_type": "markdown",
   "metadata": {},
   "source": [
    "Now change the class of objects to something that a machine can understand. Say \"GALAXY\" = 0, \"STAR\" = 1, \"QSO\"=2"
   ]
  },
  {
   "cell_type": "code",
   "execution_count": 8,
   "metadata": {},
   "outputs": [],
   "source": [
    "for i_l in range(len(class_label)):\n",
    "    \n",
    "    if (class_obs[i_l]==\"GALAXY\"):\n",
    "        class_label[i_l] = 0\n",
    "    elif (class_obs[i_l]==\"STAR\"):\n",
    "        class_label[i_l] = 1\n",
    "    else:\n",
    "        class_label[i_l] = 2"
   ]
  },
  {
   "cell_type": "code",
   "execution_count": 9,
   "metadata": {},
   "outputs": [
    {
     "name": "stdout",
     "output_type": "stream",
     "text": [
      "299908\n"
     ]
    }
   ],
   "source": [
    "cuts = (u>-10.)&(g>-10.)&(r>-10.0)&(i>-10.0)&(z>-10.0)\n",
    "\n",
    "u = u[cuts]\n",
    "g = g[cuts]\n",
    "r = r[cuts]\n",
    "i = i[cuts]\n",
    "z = z[cuts]\n",
    "redshift = redshift[cuts]\n",
    "class_label = class_label[cuts]\n",
    "print(len(redshift))"
   ]
  },
  {
   "cell_type": "markdown",
   "metadata": {},
   "source": [
    "Now let's create some extra features, beyond the raw magnitudes we imported above. Namely the colors and the magnitude ratios.\n",
    "\n",
    "The colors are $u-g$, $u-r$, $u-i$, $u-z$, $g-r$, $g-i$, $g-z$, $r-i$, $r-z$\n",
    "\n",
    "And the ratios, similarly: $u/g$, $u/r$, $u/i$, $u/z$, $g/r$, $g/i$, $g/z$, $r/i$, $r/z$."
   ]
  },
  {
   "cell_type": "code",
   "execution_count": 10,
   "metadata": {},
   "outputs": [],
   "source": [
    "# Define colors first \n",
    "u_g = u-g; u_r = u-r; u_i = u-i; u_z = u-z; g_r = g-r; g_i = g-i; g_z = g-z; r_i = r-i; r_z = r-z\n",
    "# Define the ratios now\n",
    "u_ov_g = u/g; u_ov_r = u/r; u_ov_i = u/i; u_ov_z = u/z; g_ov_r = g/r; g_ov_i = g/i; g_ov_z=g/z; r_ov_i = r/i\n",
    "r_ov_z = r/z"
   ]
  },
  {
   "cell_type": "markdown",
   "metadata": {},
   "source": [
    "Now create a feature matrix."
   ]
  },
  {
   "cell_type": "code",
   "execution_count": 11,
   "metadata": {},
   "outputs": [],
   "source": [
    "n_inst = len(redshift) #number of examples\n",
    "\n",
    "# Initialize feature matrix\n",
    "X_feat = np.zeros([n_inst,23])\n",
    "# ================================================================\n",
    "# ================================================================\n",
    "# Define feature matrix\n",
    "X_feat[:,0] = u;X_feat[:,1] = g; X_feat[:,2] = r; X_feat[:,3] = i; X_feat[:,4] =z\n",
    "X_feat[:,5] = u_g;X_feat[:,6] = u_r;X_feat[:,7] = u_i;X_feat[:,8] = u_z; X_feat[:,9] = g_r\n",
    "X_feat[:,10] = g_i; X_feat[:,11] = g_z; X_feat[:,12] = r_i; X_feat[:,13] = r_z\n",
    "X_feat[:,14] = u_ov_g; X_feat[:,15] = u_ov_r; X_feat[:,16] = u_ov_i; X_feat[:,17] = u_ov_z\n",
    "X_feat[:,18] = g_ov_r;X_feat[:,19] = g_ov_i;X_feat[:,20] = g_ov_z\n",
    "X_feat[:,21] = r_ov_i; X_feat[:,22] = r_ov_z"
   ]
  },
  {
   "cell_type": "markdown",
   "metadata": {},
   "source": [
    "Now, keep only stars and galaxies"
   ]
  },
  {
   "cell_type": "code",
   "execution_count": 12,
   "metadata": {},
   "outputs": [
    {
     "name": "stdout",
     "output_type": "stream",
     "text": [
      "1148\n"
     ]
    }
   ],
   "source": [
    "X_ft_new = X_feat[(class_label==0.0)|(class_label==1.0),:]\n",
    "y_label_new = class_label[(class_label==0.0)|(class_label==1.0)]\n",
    "\n",
    "X_ft = X_ft_new[:3000,:]\n",
    "y_true = y_label_new[:3000]\n",
    "\n",
    "print(len(y_true[y_true==1]))\n",
    "\n",
    "\n",
    "# Also reserve a test matrix\n",
    "X_test = X_ft_new[4000:5000,:]\n",
    "y_test = y_label_new[4000:5000]"
   ]
  },
  {
   "cell_type": "markdown",
   "metadata": {},
   "source": [
    "Define function that fits the logistic regression"
   ]
  },
  {
   "cell_type": "code",
   "execution_count": 21,
   "metadata": {},
   "outputs": [],
   "source": [
    "def Logistic_fit(X, y, eta=0.001, n_iter=10000):\n",
    "    \"\"\"\n",
    "    Fits data to a LR model and returns weights\n",
    "    \n",
    "    X -> feature matrix [n_samples,n_features]\n",
    "    y -> true labels [n_samples]\n",
    "    eta -> learning rate\n",
    "    n_iter -> number of iterations\n",
    "    \"\"\"    \n",
    "    \n",
    "    \n",
    "    n_feats = np.shape(X)[1] # number of features\n",
    "    m_samples = np.shape(X)[0] # number of samples (instances)\n",
    "    \n",
    "    # Initialize weights\n",
    "    w = np.random.normal(0,0.5,n_feats+1)\n",
    "    \n",
    "    for i in range(n_iter):\n",
    "        \n",
    "        z_inp = np.dot(X,w[1:]) + w[0]\n",
    "        # Predictions - output of the sigmoid function\n",
    "        sigma_lr = 1./(1.+np.exp(-np.clip(z_inp,-200,200)))\n",
    "        # Errors \n",
    "        err = (sigma_lr - y)\n",
    "        \n",
    "        # Update weights\n",
    "        w[1:] -= (eta/m_samples)*(np.dot(X.T,err))\n",
    "        w[0] -= (eta/m_samples)*(err.sum())\n",
    "        \n",
    "    return w"
   ]
  },
  {
   "cell_type": "code",
   "execution_count": 22,
   "metadata": {},
   "outputs": [],
   "source": [
    "weights = Logistic_fit(X_ft,y_true)\n",
    "\n",
    "def predict_LR(w,X):\n",
    "    n_samples = np.shape(X)[0]\n",
    "    \n",
    "    z_inp = np.dot(X,w[1:]) + w[0]\n",
    "    sig_out = 1./(1.+np.exp(-np.clip(z_inp,-200,200)))\n",
    "    \n",
    "    y_pr = np.zeros(n_samples)\n",
    "    y_pr[sig_out>0.5] = 1\n",
    "    \n",
    "    return(y_pr)\n",
    "\n",
    "y_pred = predict_LR(weights,X_test)"
   ]
  },
  {
   "cell_type": "code",
   "execution_count": 23,
   "metadata": {},
   "outputs": [
    {
     "name": "stdout",
     "output_type": "stream",
     "text": [
      "0.899\n",
      "0.8181818181818182\n",
      "0.8773584905660378\n"
     ]
    }
   ],
   "source": [
    "print(accuracy_score(y_test,y_pred))\n",
    "print(precision_score(y_test,y_pred))\n",
    "print(recall_score(y_test,y_pred))"
   ]
  },
  {
   "cell_type": "code",
   "execution_count": 24,
   "metadata": {},
   "outputs": [
    {
     "data": {
      "image/png": "[encoded data removed]",
      "text/plain": [
       "<Figure size 504x504 with 1 Axes>"
      ]
     },
     "metadata": {
      "needs_background": "light"
     },
     "output_type": "display_data"
    }
   ],
   "source": [
    "import seaborn as sns\n",
    "\n",
    "con_mat = confusion_matrix(y_test, y_pred).T\n",
    "con_mat = con_mat.astype(float)\n",
    "class_names = ['Galaxy', 'Star']\n",
    "\n",
    "\n",
    "plt.figure(figsize = (7.0,7.0))\n",
    "plt.title('Confusion Matrix',fontsize=10)\n",
    "g =sns.heatmap(con_mat.T, square = True, annot=True,fmt='.0f',annot_kws={\"size\": 25}, cmap='Blues', cbar=False, \n",
    "           xticklabels= class_names,\n",
    "           yticklabels= class_names)\n",
    "\n",
    "g.set_xticklabels(class_names, fontsize = 19)\n",
    "g.set_yticklabels(class_names, fontsize = 19)\n",
    "\n",
    "plt.xlabel('True label',fontsize=19)\n",
    "plt.ylabel('Predicted label',fontsize=19)\n",
    "\n",
    "plt.show()"
   ]
  },
  {
   "cell_type": "markdown",
   "metadata": {
    "id": "fuWIcML-pHpM"
   },
   "source": [
    "## References"
   ]
  },
  {
   "cell_type": "code",
   "execution_count": null,
   "metadata": {
    "id": "TPo5rlIev0Wd"
   },
   "outputs": [],
   "source": []
  }
 ],
 "metadata": {
  "colab": {
   "name": "Logistic_Regression_From_Scratch.ipynb",
   "provenance": []
  },
  "kernelspec": {
   "display_name": "Python 3",
   "language": "python",
   "name": "python3"
  },
  "language_info": {
   "codemirror_mode": {
    "name": "ipython",
    "version": 3
   },
   "file_extension": ".py",
   "mimetype": "text/x-python",
   "name": "python",
   "nbconvert_exporter": "python",
   "pygments_lexer": "ipython3",
   "version": "3.9.1"
  }
 },
 "nbformat": 4,
 "nbformat_minor": 4
}
