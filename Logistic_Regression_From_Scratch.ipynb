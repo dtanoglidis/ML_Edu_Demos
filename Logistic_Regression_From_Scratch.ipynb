{
  "nbformat": 4,
  "nbformat_minor": 0,
  "metadata": {
    "colab": {
      "name": "Logistic_Regression_From_Scratch.ipynb",
      "provenance": []
    },
    "kernelspec": {
      "name": "python3",
      "display_name": "Python 3"
    },
    "language_info": {
      "name": "python"
    }
  },
  "cells": [
    {
      "cell_type": "markdown",
      "metadata": {
        "id": "OOLdlrBWpCKL"
      },
      "source": [
        "# Logistic Regression from Scratch: An Immersion to Machine Learning Concepts\n",
        "\n",
        "**Dimitrios Tanoglidis**\n",
        "\n",
        "This is the first of a series of notebooks on basic Machine Learning algorithms, written (when relatively easy) from scratch. That means that I will try to avoid using the [scikit-learn](https://scikit-learn.org/stable/) library, at least not before writing my own functions first. \n",
        "\n",
        "The reason for writing these notebooks is the same as the reason one teaches a class: to learn the material themselves. That being said, I hope that other people will find them useful, too. \n",
        "\n",
        "\n",
        "The first algorithm I am going to present is the logistic regression classifier (yes, although it has the name \"regression\", it is a classifier). The reason for selecting LR as the first classifier to present is that:\n",
        "\n",
        "- a) It is intuitive \n",
        "\n",
        "- b) Often works \"just fine\" for practical applications (useful skill for industry-oriented people) \n",
        "\n",
        "-  c) Can be easily coded from scratch\n",
        "\n",
        "-  d) It is (usually) the last layer of a deep neural network\n",
        "\n",
        "- e) Allow us to introduce concepts such as regularization, and selection of hyperparameters\n",
        "\n",
        "- f) Allow us to nicely introduce and hard-code the loss function and its optimization methods \n",
        "\n",
        "- g) and many more!!!\n",
        "\n",
        "\n",
        "\n",
        "\n",
        "Before discussing the model, let's import all the necessary packages we are going to need.\n",
        "\n",
        "\n"
      ]
    },
    {
      "cell_type": "code",
      "metadata": {
        "id": "02cBb8RDpHfh"
      },
      "source": [
        "import numpy as np \n",
        "import scipy.io as sio\n",
        "import matplotlib.pyplot as plt\n",
        "%matplotlib inline\n",
        "from matplotlib import rcParams\n",
        "import pandas as pd\n",
        "#import seaborn as sns\n",
        "rcParams['font.family'] = 'serif'\n",
        "\n",
        "# Adjust rc parameters to make plots pretty\n",
        "def plot_pretty(dpi=200, fontsize=9):\n",
        "    \n",
        "    import matplotlib.pyplot as plt\n",
        "\n",
        "    plt.rc(\"savefig\", dpi=dpi)       # dpi resolution of saved image files\n",
        "    plt.rc('text', usetex=True)      # use LaTeX to process labels\n",
        "    plt.rc('font', size=fontsize)    # fontsize\n",
        "    plt.rc('xtick', direction='in')  # make axes ticks point inward\n",
        "    plt.rc('ytick', direction='in')\n",
        "    plt.rc('xtick.major', pad=10) \n",
        "    plt.rc('xtick.minor', pad=5)\n",
        "    plt.rc('ytick.major', pad=10) \n",
        "    plt.rc('ytick.minor', pad=5)\n",
        "    plt.rc('lines', dotted_pattern = [0.5, 1.1]) # fix dotted lines\n",
        "\n",
        "    return\n",
        "\n",
        "plot_pretty()\n"
      ],
      "execution_count": null,
      "outputs": []
    },
    {
      "cell_type": "markdown",
      "metadata": {
        "id": "JOtLiKwm1Z5M"
      },
      "source": [
        "If you run this notebook on Colab, uncomment and run the following cell"
      ]
    },
    {
      "cell_type": "code",
      "metadata": {
        "id": "325e9lO31Xrq"
      },
      "source": [
        "#! sudo apt-get install texlive-latex-recommended \n",
        "#! sudo apt install texlive-latex-extra\n",
        "#! sudo apt install dvipng\n",
        "#!apt install cm-super"
      ],
      "execution_count": null,
      "outputs": []
    },
    {
      "cell_type": "markdown",
      "metadata": {
        "id": "B1Mvy0TvpHir"
      },
      "source": [
        "## Logistic Regression for binary classification\n",
        "\n",
        "LR is a **supervised** machine learning classifier. We will consider a binary classification problem. Assume that we have $m$ training pairs $(\\mathbf{x}^{(i)},y^{(i)})$, where $\\mathbf{x}^{(i)} = [x_1^{(i)},x_1^{(i)},\\dots,x_n^{(i)}]$ a feature vector and the labels $y^{(i)} \\in \\{0,1\\}$, the probability to get $y=1$ is modeled as:\n",
        "\n",
        "\n",
        "\\begin{equation}\\boxed{\n",
        "p(y=1|\\mathbf{x};\\mathbf{w}) = \\frac{1}{1+e^{-\\mathbf{w}^T\\mathbf{x}}},}\n",
        "\\end{equation}\n",
        "\n",
        "where $\\mathbf{w}^T\\mathbf{x} = \\sum_{i=0}^n w_i x_i = w_0 + w_1 x_1 + \\dots + w_n x_n $.\n",
        "\n",
        "The parameters $w$ are **weights to be learned**. Specifically the paramter $w_0$ is called **bias**.\n",
        "\n",
        "The property that makes the logistic function (also known as **sigmoid**) $\\sigma(z) = 1/(1+e^{-z})$ useful is that it can take number (here $\\mathbf{w}^T\\mathbf{x}$) and map it to the interval $(0,1)$, thus making it easy to be interpreted as probability.\n",
        "\n",
        "Let's plot the logistic function in a range of $z$ values:\n"
      ]
    },
    {
      "cell_type": "code",
      "metadata": {
        "id": "3ebXro2ypHkX",
        "colab": {
          "base_uri": "https://localhost:8080/",
          "height": 522
        },
        "outputId": "89d29b59-2859-45f2-f504-36c65ee00443"
      },
      "source": [
        "def logist(z):\n",
        "  g = 1. + np.exp(-z)\n",
        "  return 1./g\n",
        "\n",
        "\n",
        "z = np.linspace(-10,10,100)\n",
        "logist_z = logist(z)\n",
        "\n",
        "\n",
        "plt.figure(figsize = (8.0,8.0))\n",
        "plt.plot(z,logist_z,c='mediumblue',linewidth=2.5)\n",
        "plt.grid(ls='--',alpha=0.7)\n",
        "plt.title('Logistic or Sigmoid function', fontsize=15)\n",
        "plt.xlabel('$z$',fontsize=20)\n",
        "plt.ylabel('$\\sigma(z)$', fontsize=20)\n",
        "\n",
        "plt.show()\n"
      ],
      "execution_count": null,
      "outputs": [
        {
          "output_type": "display_data",
          "data": {
            "image/png": "[encoded data removed]",
            "text/plain": [
              "<Figure size 576x576 with 1 Axes>"
            ]
          },
          "metadata": {
            "tags": [],
            "needs_background": "light"
          }
        }
      ]
    },
    {
      "cell_type": "markdown",
      "metadata": {
        "id": "MvHBtPKYpHnK"
      },
      "source": [
        "### Learning the weights: An introduction to the loss function and the gradient descent\n",
        "\n",
        "If we find optimal weights, $w$, then the predicted label of a single observation, $\\hat{y}$, will be:\n",
        "\n",
        "\n",
        "\\begin{equation}\n",
        "\\hat{y} = \\begin{cases} \n",
        "1, & \\mbox{if}\\,\\, \\sigma(\\mathbf{w^Tx}) \\geq 0.5 \\\\ \n",
        "0, & \\mbox{otherwise}\n",
        "\\end{cases}\n",
        "\\end{equation}\n",
        "\n",
        "How are we going to find the weights? \n",
        "\n",
        "Since we are dealing with a binary problem, labels $Y \\in \\{0,1\\}$ the probability to get label $y$ when we have an observation $\\mathbf{x}$ is given by the **Bernoulli distribution**:\n",
        "\n",
        "\n",
        "\\begin{equation}\n",
        "p(y|\\mathbf{x};\\mathbf{w}) \\\\= p(y=1|\\mathbf{x};\\mathbf{w})^y (1- p(y=1|\\mathbf{x};\\mathbf{w}))^{(1-y)}  \\\\=\\sigma(\\mathbf{w^Tx})^y (1 - \\sigma(\\mathbf{w^Tx}))^{(1-y)}\n",
        "\\end{equation}\n",
        "\n",
        "Assuming that the $m$ training samples are independent, we can write down a **likelihood** of parameters given observations, whose **maximization** will yield the best set  of parameters:\n",
        "\n",
        "\\begin{equation}\n",
        "L(\\mathbf{w}|\\mathbf{x},\\mathbf{y}) = \\prod_{i=1}^m p(y^{(i)}|\\mathbf{x}^{(i)};\\mathbf{w}) \\\\ = \\prod_{i=1}^m \\sigma(\\mathbf{w^Tx}^{(i)})^{y^{(i)}} (1 - \\sigma(\\mathbf{w^Tx}^{(i)}))^{(1-y^{(i)})}\n",
        "\\end{equation}\n",
        "\n",
        "Now to form the **loss function** (something to be **minimized**) we will get the *negative* of the the log of the above likelihood (the logarithm is for computational ease):\n",
        "\n",
        "\\begin{equation}\n",
        "\\boxed{\n",
        "J(\\mathbf{w}) = - \\sum_{i=1}^m y^{(i)}\\log \\sigma(\\mathbf{w^Tx}^{(i)}) + (1-y^{(i)})\\log (1 - \\sigma(\\mathbf{w^Tx}^{(i)}))}\n",
        "\\end{equation}\n",
        "\n",
        "\n",
        "This is also known as the **binary cross-entropy** loss function.\n"
      ]
    },
    {
      "cell_type": "markdown",
      "metadata": {
        "id": "T00U2WfHRypF"
      },
      "source": [
        ""
      ]
    },
    {
      "cell_type": "code",
      "metadata": {
        "id": "qZeLeHin4yLl"
      },
      "source": [
        ""
      ],
      "execution_count": null,
      "outputs": []
    },
    {
      "cell_type": "code",
      "metadata": {
        "id": "ZM0FGdzn4yWO"
      },
      "source": [
        ""
      ],
      "execution_count": null,
      "outputs": []
    },
    {
      "cell_type": "markdown",
      "metadata": {
        "id": "fuWIcML-pHpM"
      },
      "source": [
        "## References"
      ]
    },
    {
      "cell_type": "code",
      "metadata": {
        "id": "TPo5rlIev0Wd"
      },
      "source": [
        ""
      ],
      "execution_count": null,
      "outputs": []
    }
  ]
}